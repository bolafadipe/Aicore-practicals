{
  "nbformat": 4,
  "nbformat_minor": 0,
  "metadata": {
    "colab": {
      "name": "Module_3.6.ipynb",
      "provenance": [],
      "collapsed_sections": [],
      "authorship_tag": "ABX9TyPtQCKryi4sYRDWzXOeWrMI",
      "include_colab_link": true
    },
    "kernelspec": {
      "name": "python3",
      "display_name": "Python 3"
    },
    "language_info": {
      "name": "python"
    }
  },
  "cells": [
    {
      "cell_type": "markdown",
      "metadata": {
        "id": "view-in-github",
        "colab_type": "text"
      },
      "source": [
        "<a href=\"https://colab.research.google.com/github/bolafadipe/Aicore-practicals/blob/main/Module_3_6.ipynb\" target=\"_parent\"><img src=\"https://colab.research.google.com/assets/colab-badge.svg\" alt=\"Open In Colab\"/></a>"
      ]
    },
    {
      "cell_type": "markdown",
      "metadata": {
        "id": "Gc3RDcB4KtAZ"
      },
      "source": [
        "# Control Flow\n"
      ]
    },
    {
      "cell_type": "markdown",
      "metadata": {
        "id": "dliBjQtTLXpP"
      },
      "source": [
        "## Challenge 1: **BMI Checker**\n",
        "Given 2 parameters, height and weight, calculate the parameter BMI (Google the formula) (For simplicity, work in metres and kg).\n",
        "\n",
        "Using the parameter BMI, write a series of if statements that print the following outcomes:\n",
        "\n",
        "- below 18.5 –-> 'Your BMI is x. You're in the underweight range.'\n",
        "\n",
        "- between 18.5 and 24.9 –-> 'Your BMI is x. You're in the healthy weight range.'\n",
        "\n",
        "- between 25 and 29.9 –-> 'Your BMI is x. You're in the overweight range.'\n",
        "\n",
        "- between 30 and 39.9 –-> 'Your BMI is x. You're in the obese range.'\n",
        "\n",
        "Test your code with the following cases by substituting them in for weight and height values in your code:<br>\n",
        "\n",
        "Height 1.83m, Weight 85kg\n",
        "\n",
        "Height 1.55m, Weight 61kg\n",
        "\n",
        "Height 2.09m, Weight 135kg\n",
        "\n",
        "Height 1.71m, Weight 70kg\n",
        "\n",
        "Height 1.71m, Weight 95kg\n",
        "\n",
        "Height 1.71m, Weight 55kg"
      ]
    },
    {
      "cell_type": "code",
      "metadata": {
        "id": "mCztqUFcLjfr"
      },
      "source": [
        "def cal_bmi(height, weight):\n",
        "  bmi = round(weight / height**2, 1)\n",
        "  if  ( 30 <= bmi <= 39.9):\n",
        "    return f'your BMI is {bmi}kg/m². you\\'re in the obese range'\n",
        "  elif (25 <= bmi <= 29.9):\n",
        "    return f'your BMI is {bmi}kg/m². You\\'re in the overweight range'\n",
        "  elif (18.5 <= bmi <= 24.9):\n",
        "    return f'Your BMI is {bmi}kg/m². You\\'re in the healthy weight range.'\n",
        "  elif (bmi < 18.5):\n",
        "    return f'Your BMI is {bmi}kg/m² . You\\'re in the underweight range.'\n"
      ],
      "execution_count": 11,
      "outputs": []
    },
    {
      "cell_type": "code",
      "metadata": {
        "colab": {
          "base_uri": "https://localhost:8080/",
          "height": 35
        },
        "id": "7PQWCKnGNo6J",
        "outputId": "0798892e-4e9a-40b7-ebfb-a2e849a836d3"
      },
      "source": [
        "cal_bmi(1.83, 85)"
      ],
      "execution_count": 12,
      "outputs": [
        {
          "output_type": "execute_result",
          "data": {
            "application/vnd.google.colaboratory.intrinsic+json": {
              "type": "string"
            },
            "text/plain": [
              "\"your BMI is 25.4kg/m². You're in the overweight range\""
            ]
          },
          "metadata": {},
          "execution_count": 12
        }
      ]
    },
    {
      "cell_type": "code",
      "metadata": {
        "colab": {
          "base_uri": "https://localhost:8080/",
          "height": 35
        },
        "id": "B9DaR0qoNxoU",
        "outputId": "14f94bf9-59b6-424b-ed2a-a1be9878a94a"
      },
      "source": [
        "cal_bmi(1.55, 61)"
      ],
      "execution_count": 13,
      "outputs": [
        {
          "output_type": "execute_result",
          "data": {
            "application/vnd.google.colaboratory.intrinsic+json": {
              "type": "string"
            },
            "text/plain": [
              "\"your BMI is 25.4kg/m². You're in the overweight range\""
            ]
          },
          "metadata": {},
          "execution_count": 13
        }
      ]
    },
    {
      "cell_type": "code",
      "metadata": {
        "colab": {
          "base_uri": "https://localhost:8080/",
          "height": 35
        },
        "id": "oT8_aJ4GQiJv",
        "outputId": "5e8ae2b1-d2e0-4dd7-b1d2-da512ca32bed"
      },
      "source": [
        "cal_bmi(2.09, 135)"
      ],
      "execution_count": 14,
      "outputs": [
        {
          "output_type": "execute_result",
          "data": {
            "application/vnd.google.colaboratory.intrinsic+json": {
              "type": "string"
            },
            "text/plain": [
              "\"your BMI is 30.9kg/m². you're in the obese range\""
            ]
          },
          "metadata": {},
          "execution_count": 14
        }
      ]
    },
    {
      "cell_type": "code",
      "metadata": {
        "colab": {
          "base_uri": "https://localhost:8080/",
          "height": 35
        },
        "id": "f9SHSfhDQskD",
        "outputId": "c9b562a7-95f9-403b-df8a-48f600b460b5"
      },
      "source": [
        "cal_bmi(1.71, 70)"
      ],
      "execution_count": 15,
      "outputs": [
        {
          "output_type": "execute_result",
          "data": {
            "application/vnd.google.colaboratory.intrinsic+json": {
              "type": "string"
            },
            "text/plain": [
              "\"Your BMI is 23.9kg/m². You're in the healthy weight range.\""
            ]
          },
          "metadata": {},
          "execution_count": 15
        }
      ]
    },
    {
      "cell_type": "code",
      "metadata": {
        "colab": {
          "base_uri": "https://localhost:8080/",
          "height": 35
        },
        "id": "-5ncpa7xQ9ob",
        "outputId": "32bd6d24-854f-4ed1-b4f9-3ccef097dd16"
      },
      "source": [
        "cal_bmi(1.71, 95)"
      ],
      "execution_count": 16,
      "outputs": [
        {
          "output_type": "execute_result",
          "data": {
            "application/vnd.google.colaboratory.intrinsic+json": {
              "type": "string"
            },
            "text/plain": [
              "\"your BMI is 32.5kg/m². you're in the obese range\""
            ]
          },
          "metadata": {},
          "execution_count": 16
        }
      ]
    },
    {
      "cell_type": "code",
      "metadata": {
        "colab": {
          "base_uri": "https://localhost:8080/",
          "height": 35
        },
        "id": "Wcmgrf5IQ_yt",
        "outputId": "96e86ed8-92e7-4116-94cb-1f20a4451039"
      },
      "source": [
        "cal_bmi(1.71, 55)"
      ],
      "execution_count": 17,
      "outputs": [
        {
          "output_type": "execute_result",
          "data": {
            "application/vnd.google.colaboratory.intrinsic+json": {
              "type": "string"
            },
            "text/plain": [
              "\"Your BMI is 18.8kg/m². You're in the healthy weight range.\""
            ]
          },
          "metadata": {},
          "execution_count": 17
        }
      ]
    },
    {
      "cell_type": "code",
      "metadata": {
        "id": "XLk-65-tRBzb"
      },
      "source": [
        ""
      ],
      "execution_count": 17,
      "outputs": []
    },
    {
      "cell_type": "markdown",
      "metadata": {
        "id": "WXvjE2PWRPXv"
      },
      "source": [
        "### Challenge 2: **Flight Safety Checker**\n",
        "Given 2 parameters, altitude(ft) and airspeed(knots), write a program that categorises entries into 'safe flying' and 'unsafe flying' based on the following criteria:\n",
        "\n",
        "- An altitude of below 100ft or above 50000ft is considered unsafe flying.\n",
        "\n",
        "- An airspeed of 60 knots and below or 500 knots and above is considered unsafe flying.\n",
        "\n",
        "- Altitudes and airspeeds outside these ranges are considered safe flying.\n",
        "\n",
        "CLUE: You will have to figure out the syntax for using __and__/__or__ keywords in if statements, __this may be tough but stick at it__.\n",
        "\n",
        "Try to write this as cleanly as possible and test your code with the following by substituting in again:\n",
        "\n",
        "- altitude 25000ft, airspeed 300kn\n",
        "\n",
        "- altitude 50001ft, airspeed 250kn\n",
        "\n",
        "- altitude 90ft, airspeed 125kn\n",
        "\n",
        "- altitude 500ft, airspeed 45kn\n",
        "\n",
        "- altitude 1000ft, airspeed 600kn\n",
        "\n",
        "- altitude 65000ft, airspeed 700kn"
      ]
    },
    {
      "cell_type": "code",
      "metadata": {
        "id": "_bVV5BblRfP3"
      },
      "source": [
        "def flying_safety(altitude, airspeed):\n",
        "  if (altitude < 100 or altitude > 50000 and 60 <= airspeed >= 500):\n",
        "    return 'safe for flying'\n",
        "  else:\n",
        "    return 'unsafe for flying'"
      ],
      "execution_count": 18,
      "outputs": []
    },
    {
      "cell_type": "code",
      "metadata": {
        "colab": {
          "base_uri": "https://localhost:8080/",
          "height": 35
        },
        "id": "UR0923TuTmdF",
        "outputId": "68de60a4-d84a-4370-8ea7-54be762977a8"
      },
      "source": [
        "flying_safety(25000, 300)"
      ],
      "execution_count": 19,
      "outputs": [
        {
          "output_type": "execute_result",
          "data": {
            "application/vnd.google.colaboratory.intrinsic+json": {
              "type": "string"
            },
            "text/plain": [
              "'unsafe for flying'"
            ]
          },
          "metadata": {},
          "execution_count": 19
        }
      ]
    },
    {
      "cell_type": "code",
      "metadata": {
        "colab": {
          "base_uri": "https://localhost:8080/",
          "height": 35
        },
        "id": "x-S28BxcTtgf",
        "outputId": "ec2e8a09-5bb3-4779-99cd-9bf65d6bcf84"
      },
      "source": [
        "flying_safety(50001, 250)"
      ],
      "execution_count": 20,
      "outputs": [
        {
          "output_type": "execute_result",
          "data": {
            "application/vnd.google.colaboratory.intrinsic+json": {
              "type": "string"
            },
            "text/plain": [
              "'unsafe for flying'"
            ]
          },
          "metadata": {},
          "execution_count": 20
        }
      ]
    },
    {
      "cell_type": "code",
      "metadata": {
        "colab": {
          "base_uri": "https://localhost:8080/",
          "height": 35
        },
        "id": "mqosdRECT5uu",
        "outputId": "06821ddf-b3e8-4713-eab3-964e80da02bf"
      },
      "source": [
        "flying_safety(90, 125)"
      ],
      "execution_count": 21,
      "outputs": [
        {
          "output_type": "execute_result",
          "data": {
            "application/vnd.google.colaboratory.intrinsic+json": {
              "type": "string"
            },
            "text/plain": [
              "'safe for flying'"
            ]
          },
          "metadata": {},
          "execution_count": 21
        }
      ]
    },
    {
      "cell_type": "code",
      "metadata": {
        "colab": {
          "base_uri": "https://localhost:8080/",
          "height": 35
        },
        "id": "rQBy-bO6UFI6",
        "outputId": "2bf7cb53-48ca-465d-ce30-5bf8ea53082e"
      },
      "source": [
        "flying_safety(500, 45)"
      ],
      "execution_count": 22,
      "outputs": [
        {
          "output_type": "execute_result",
          "data": {
            "application/vnd.google.colaboratory.intrinsic+json": {
              "type": "string"
            },
            "text/plain": [
              "'unsafe for flying'"
            ]
          },
          "metadata": {},
          "execution_count": 22
        }
      ]
    },
    {
      "cell_type": "code",
      "metadata": {
        "colab": {
          "base_uri": "https://localhost:8080/",
          "height": 35
        },
        "id": "pNPeAkQSURr9",
        "outputId": "b790d5af-1237-404e-fc5e-b84f8acbda33"
      },
      "source": [
        "flying_safety(1000, 600)"
      ],
      "execution_count": 23,
      "outputs": [
        {
          "output_type": "execute_result",
          "data": {
            "application/vnd.google.colaboratory.intrinsic+json": {
              "type": "string"
            },
            "text/plain": [
              "'unsafe for flying'"
            ]
          },
          "metadata": {},
          "execution_count": 23
        }
      ]
    },
    {
      "cell_type": "code",
      "metadata": {
        "id": "T8SgW3NyUkSR",
        "colab": {
          "base_uri": "https://localhost:8080/",
          "height": 35
        },
        "outputId": "16dcab0c-050a-4f0b-99bc-1436a1d30066"
      },
      "source": [
        "flying_safety(65000, 700)"
      ],
      "execution_count": 24,
      "outputs": [
        {
          "output_type": "execute_result",
          "data": {
            "application/vnd.google.colaboratory.intrinsic+json": {
              "type": "string"
            },
            "text/plain": [
              "'safe for flying'"
            ]
          },
          "metadata": {},
          "execution_count": 24
        }
      ]
    },
    {
      "cell_type": "code",
      "metadata": {
        "id": "8m4nVNVlUn4U"
      },
      "source": [
        ""
      ],
      "execution_count": 24,
      "outputs": []
    }
  ]
}