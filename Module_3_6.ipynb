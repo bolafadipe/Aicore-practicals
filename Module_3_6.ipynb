{
  "nbformat": 4,
  "nbformat_minor": 0,
  "metadata": {
    "colab": {
      "name": "Module_3.6.ipynb",
      "provenance": [],
      "collapsed_sections": [],
      "authorship_tag": "ABX9TyMEmg2Bc+Vtj8kOOWGNExlU"
    },
    "kernelspec": {
      "name": "python3",
      "display_name": "Python 3"
    },
    "language_info": {
      "name": "python"
    }
  },
  "cells": [
    {
      "cell_type": "markdown",
      "metadata": {
        "id": "Gc3RDcB4KtAZ"
      },
      "source": [
        "# Control Flow\n"
      ]
    },
    {
      "cell_type": "markdown",
      "metadata": {
        "id": "dliBjQtTLXpP"
      },
      "source": [
        "## Challenge 1: **BMI Checker**\n",
        "Given 2 parameters, height and weight, calculate the parameter BMI (Google the formula) (For simplicity, work in metres and kg).\n",
        "\n",
        "Using the parameter BMI, write a series of if statements that print the following outcomes:\n",
        "\n",
        "- below 18.5 –-> 'Your BMI is x. You're in the underweight range.'\n",
        "\n",
        "- between 18.5 and 24.9 –-> 'Your BMI is x. You're in the healthy weight range.'\n",
        "\n",
        "- between 25 and 29.9 –-> 'Your BMI is x. You're in the overweight range.'\n",
        "\n",
        "- between 30 and 39.9 –-> 'Your BMI is x. You're in the obese range.'\n",
        "\n",
        "Test your code with the following cases by substituting them in for weight and height values in your code:<br>\n",
        "\n",
        "Height 1.83m, Weight 85kg\n",
        "\n",
        "Height 1.55m, Weight 61kg\n",
        "\n",
        "Height 2.09m, Weight 135kg\n",
        "\n",
        "Height 1.71m, Weight 70kg\n",
        "\n",
        "Height 1.71m, Weight 95kg\n",
        "\n",
        "Height 1.71m, Weight 55kg"
      ]
    },
    {
      "cell_type": "code",
      "metadata": {
        "id": "mCztqUFcLjfr"
      },
      "source": [
        "def cal_bmi(height, weight):\n",
        "  bmi = round(weight / height**height, 1)\n",
        "  if  ( 30 <= bmi <= 39.9):\n",
        "    return f'your BMI is {bmi}kg/m². you\\'re in the obese range'\n",
        "  elif (25 <= bmi <= 29.9):\n",
        "    return f'your BMI is {bmi}kg/m². You\\'re in the overweight range'\n",
        "  elif (18.5 <= bmi <= 24.9):\n",
        "    return f'Your BMI is {bmi}kg/m². You\\'re in the healthy weight range.'\n",
        "  elif (bmi < 18.5):\n",
        "    return f'Your BMI is {bmi}kg/m² . You\\'re in the underweight range.'\n"
      ],
      "execution_count": 18,
      "outputs": []
    },
    {
      "cell_type": "code",
      "metadata": {
        "colab": {
          "base_uri": "https://localhost:8080/",
          "height": 35
        },
        "id": "xmADuRELNRoc",
        "outputId": "7d05bbdf-a683-4030-b2b3-90b9b2ed1840"
      },
      "source": [
        "cal_bmi(1.83, 85)"
      ],
      "execution_count": 20,
      "outputs": [
        {
          "output_type": "execute_result",
          "data": {
            "application/vnd.google.colaboratory.intrinsic+json": {
              "type": "string"
            },
            "text/plain": [
              "\"your BMI is 28.1kg/m². You're in the overweight range\""
            ]
          },
          "metadata": {},
          "execution_count": 20
        }
      ]
    },
    {
      "cell_type": "code",
      "metadata": {
        "colab": {
          "base_uri": "https://localhost:8080/",
          "height": 35
        },
        "id": "B9DaR0qoNxoU",
        "outputId": "4f76c059-4875-4dab-fa4f-73182a53512e"
      },
      "source": [
        "cal_bmi(1.55, 61)"
      ],
      "execution_count": 21,
      "outputs": [
        {
          "output_type": "execute_result",
          "data": {
            "application/vnd.google.colaboratory.intrinsic+json": {
              "type": "string"
            },
            "text/plain": [
              "\"your BMI is 30.9kg/m². you're in the obese range\""
            ]
          },
          "metadata": {},
          "execution_count": 21
        }
      ]
    },
    {
      "cell_type": "code",
      "metadata": {
        "colab": {
          "base_uri": "https://localhost:8080/",
          "height": 35
        },
        "id": "oT8_aJ4GQiJv",
        "outputId": "db88657c-e359-4a82-a897-893ef9141c12"
      },
      "source": [
        "cal_bmi(2.09, 135)"
      ],
      "execution_count": 22,
      "outputs": [
        {
          "output_type": "execute_result",
          "data": {
            "application/vnd.google.colaboratory.intrinsic+json": {
              "type": "string"
            },
            "text/plain": [
              "\"your BMI is 28.9kg/m². You're in the overweight range\""
            ]
          },
          "metadata": {},
          "execution_count": 22
        }
      ]
    },
    {
      "cell_type": "code",
      "metadata": {
        "colab": {
          "base_uri": "https://localhost:8080/",
          "height": 35
        },
        "id": "f9SHSfhDQskD",
        "outputId": "03d5daf5-1a88-403a-aef8-df85ee812858"
      },
      "source": [
        "cal_bmi(1.71, 70)"
      ],
      "execution_count": 23,
      "outputs": [
        {
          "output_type": "execute_result",
          "data": {
            "application/vnd.google.colaboratory.intrinsic+json": {
              "type": "string"
            },
            "text/plain": [
              "\"your BMI is 28.0kg/m². You're in the overweight range\""
            ]
          },
          "metadata": {},
          "execution_count": 23
        }
      ]
    },
    {
      "cell_type": "code",
      "metadata": {
        "colab": {
          "base_uri": "https://localhost:8080/",
          "height": 35
        },
        "id": "-5ncpa7xQ9ob",
        "outputId": "d0d39863-5a37-4465-eae3-6e656a9cb323"
      },
      "source": [
        "cal_bmi(1.71, 95)"
      ],
      "execution_count": 24,
      "outputs": [
        {
          "output_type": "execute_result",
          "data": {
            "application/vnd.google.colaboratory.intrinsic+json": {
              "type": "string"
            },
            "text/plain": [
              "\"your BMI is 38.0kg/m². you're in the obese range\""
            ]
          },
          "metadata": {},
          "execution_count": 24
        }
      ]
    },
    {
      "cell_type": "code",
      "metadata": {
        "colab": {
          "base_uri": "https://localhost:8080/",
          "height": 35
        },
        "id": "Wcmgrf5IQ_yt",
        "outputId": "8753171f-821d-429b-c03b-7b2815afcbe6"
      },
      "source": [
        "cal_bmi(1.71, 55)"
      ],
      "execution_count": 25,
      "outputs": [
        {
          "output_type": "execute_result",
          "data": {
            "application/vnd.google.colaboratory.intrinsic+json": {
              "type": "string"
            },
            "text/plain": [
              "\"Your BMI is 22.0kg/m². You're in the healthy weight range.\""
            ]
          },
          "metadata": {},
          "execution_count": 25
        }
      ]
    },
    {
      "cell_type": "code",
      "metadata": {
        "id": "XLk-65-tRBzb"
      },
      "source": [
        ""
      ],
      "execution_count": null,
      "outputs": []
    },
    {
      "cell_type": "markdown",
      "metadata": {
        "id": "WXvjE2PWRPXv"
      },
      "source": [
        "### Challenge 2: **Flight Safety Checker**\n",
        "Given 2 parameters, altitude(ft) and airspeed(knots), write a program that categorises entries into 'safe flying' and 'unsafe flying' based on the following criteria:\n",
        "\n",
        "- An altitude of below 100ft or above 50000ft is considered unsafe flying.\n",
        "\n",
        "- An airspeed of 60 knots and below or 500 knots and above is considered unsafe flying.\n",
        "\n",
        "- Altitudes and airspeeds outside these ranges are considered safe flying.\n",
        "\n",
        "CLUE: You will have to figure out the syntax for using __and__/__or__ keywords in if statements, __this may be tough but stick at it__.\n",
        "\n",
        "Try to write this as cleanly as possible and test your code with the following by substituting in again:\n",
        "\n",
        "- altitude 25000ft, airspeed 300kn\n",
        "\n",
        "- altitude 50001ft, airspeed 250kn\n",
        "\n",
        "- altitude 90ft, airspeed 125kn\n",
        "\n",
        "- altitude 500ft, airspeed 45kn\n",
        "\n",
        "- altitude 1000ft, airspeed 600kn\n",
        "\n",
        "- altitude 65000ft, airspeed 700kn"
      ]
    },
    {
      "cell_type": "code",
      "metadata": {
        "id": "_bVV5BblRfP3"
      },
      "source": [
        "def flying_safety(altitude, airspeed):\n",
        "  if (altitude < 100 or altitude > 50000 and 60 <= airspeed >= 500):\n",
        "    return 'safe for flying'\n",
        "  else:\n",
        "    return 'unsafe for flying'"
      ],
      "execution_count": 36,
      "outputs": []
    },
    {
      "cell_type": "code",
      "metadata": {
        "colab": {
          "base_uri": "https://localhost:8080/",
          "height": 35
        },
        "id": "UR0923TuTmdF",
        "outputId": "cff19d81-f731-4662-b8b4-1708c2e64082"
      },
      "source": [
        "flying_safety(25000, 300)"
      ],
      "execution_count": 37,
      "outputs": [
        {
          "output_type": "execute_result",
          "data": {
            "application/vnd.google.colaboratory.intrinsic+json": {
              "type": "string"
            },
            "text/plain": [
              "'unsafe for flying'"
            ]
          },
          "metadata": {},
          "execution_count": 37
        }
      ]
    },
    {
      "cell_type": "code",
      "metadata": {
        "colab": {
          "base_uri": "https://localhost:8080/",
          "height": 35
        },
        "id": "x-S28BxcTtgf",
        "outputId": "882331ac-593b-4e19-d523-3cbb83094c3f"
      },
      "source": [
        "flying_safety(50001, 250)"
      ],
      "execution_count": 38,
      "outputs": [
        {
          "output_type": "execute_result",
          "data": {
            "application/vnd.google.colaboratory.intrinsic+json": {
              "type": "string"
            },
            "text/plain": [
              "'unsafe for flying'"
            ]
          },
          "metadata": {},
          "execution_count": 38
        }
      ]
    },
    {
      "cell_type": "code",
      "metadata": {
        "colab": {
          "base_uri": "https://localhost:8080/",
          "height": 35
        },
        "id": "mqosdRECT5uu",
        "outputId": "e7c3c07c-2afd-42bb-8df5-cf71db81b058"
      },
      "source": [
        "flying_safety(90, 125)"
      ],
      "execution_count": 39,
      "outputs": [
        {
          "output_type": "execute_result",
          "data": {
            "application/vnd.google.colaboratory.intrinsic+json": {
              "type": "string"
            },
            "text/plain": [
              "'safe for flying'"
            ]
          },
          "metadata": {},
          "execution_count": 39
        }
      ]
    },
    {
      "cell_type": "code",
      "metadata": {
        "colab": {
          "base_uri": "https://localhost:8080/",
          "height": 35
        },
        "id": "rQBy-bO6UFI6",
        "outputId": "2bc00cec-eab5-4bd4-d27c-bea8bc13c6ae"
      },
      "source": [
        "flying_safety(500, 45)"
      ],
      "execution_count": 40,
      "outputs": [
        {
          "output_type": "execute_result",
          "data": {
            "application/vnd.google.colaboratory.intrinsic+json": {
              "type": "string"
            },
            "text/plain": [
              "'unsafe for flying'"
            ]
          },
          "metadata": {},
          "execution_count": 40
        }
      ]
    },
    {
      "cell_type": "code",
      "metadata": {
        "colab": {
          "base_uri": "https://localhost:8080/",
          "height": 35
        },
        "id": "pNPeAkQSURr9",
        "outputId": "7f2a4619-9766-4b2e-bb40-7878d2479284"
      },
      "source": [
        "flying_safety(1000, 600)"
      ],
      "execution_count": 41,
      "outputs": [
        {
          "output_type": "execute_result",
          "data": {
            "application/vnd.google.colaboratory.intrinsic+json": {
              "type": "string"
            },
            "text/plain": [
              "'unsafe for flying'"
            ]
          },
          "metadata": {},
          "execution_count": 41
        }
      ]
    },
    {
      "cell_type": "code",
      "metadata": {
        "colab": {
          "base_uri": "https://localhost:8080/",
          "height": 35
        },
        "id": "T8SgW3NyUkSR",
        "outputId": "4d149c12-5e11-4307-9e9c-d87af459c060"
      },
      "source": [
        "flying_safety(65000, 700)"
      ],
      "execution_count": 42,
      "outputs": [
        {
          "output_type": "execute_result",
          "data": {
            "application/vnd.google.colaboratory.intrinsic+json": {
              "type": "string"
            },
            "text/plain": [
              "'safe for flying'"
            ]
          },
          "metadata": {},
          "execution_count": 42
        }
      ]
    },
    {
      "cell_type": "code",
      "metadata": {
        "id": "8m4nVNVlUn4U"
      },
      "source": [
        ""
      ],
      "execution_count": null,
      "outputs": []
    }
  ]
}