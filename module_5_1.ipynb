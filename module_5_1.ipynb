{
  "nbformat": 4,
  "nbformat_minor": 0,
  "metadata": {
    "colab": {
      "name": "module_5.1.ipynb",
      "provenance": [],
      "authorship_tag": "ABX9TyMy94cycFq5p1MqwX0FPZQN",
      "include_colab_link": true
    },
    "kernelspec": {
      "name": "python3",
      "display_name": "Python 3"
    },
    "language_info": {
      "name": "python"
    }
  },
  "cells": [
    {
      "cell_type": "markdown",
      "metadata": {
        "id": "view-in-github",
        "colab_type": "text"
      },
      "source": [
        "<a href=\"https://colab.research.google.com/github/bolafadipe/Aicore-practicals/blob/main/module_5_1.ipynb\" target=\"_parent\"><img src=\"https://colab.research.google.com/assets/colab-badge.svg\" alt=\"Open In Colab\"/></a>"
      ]
    },
    {
      "cell_type": "markdown",
      "metadata": {
        "id": "TPtfAyNr7TDP"
      },
      "source": [
        "# APIs and requests"
      ]
    },
    {
      "cell_type": "markdown",
      "metadata": {
        "id": "VV_fvI23-luF"
      },
      "source": [
        "### Challenge 1:\n",
        "Top upvoted\n",
        "- Look at the StackExchange API docs [here](https://api.stackexchange.com/docs)\n",
        "\n",
        "- Find the 10 most highly voted posts in the last day.\n",
        "\n",
        "- How many upvotes do they have?\n",
        "\n",
        "- Make sure to use the query string params defined in the documentation."
      ]
    },
    {
      "cell_type": "code",
      "metadata": {
        "id": "KffqSb4Q7VnO"
      },
      "source": [
        "# import libraries\n",
        "import requests\n",
        "import json"
      ],
      "execution_count": 9,
      "outputs": []
    },
    {
      "cell_type": "code",
      "metadata": {
        "id": "-IhhobjVEKxy"
      },
      "source": [
        "# define the url\n",
        "url = 'https://api.stackexchange.com/2.3/posts?fromdate=1635552000&todate=1635638400&order=desc&min=1&max=10&sort=votes&site=stackoverflow'"
      ],
      "execution_count": 10,
      "outputs": []
    },
    {
      "cell_type": "code",
      "metadata": {
        "id": "DYaqR7EFEPnD"
      },
      "source": [
        "# get url using the requests library\n",
        "res = requests.get(url)"
      ],
      "execution_count": 11,
      "outputs": []
    },
    {
      "cell_type": "code",
      "metadata": {
        "colab": {
          "base_uri": "https://localhost:8080/"
        },
        "id": "IUIVxkHFERyh",
        "outputId": "f4cb1a27-cde4-42eb-ddce-6e28d5194b2d"
      },
      "source": [
        "res.status_code"
      ],
      "execution_count": 5,
      "outputs": [
        {
          "output_type": "execute_result",
          "data": {
            "text/plain": [
              "200"
            ]
          },
          "metadata": {},
          "execution_count": 5
        }
      ]
    },
    {
      "cell_type": "code",
      "metadata": {
        "id": "tulanco2FH9R"
      },
      "source": [
        "# load the text content of the response onject into a 'data' variable\n",
        "data = json.loads(res.text)"
      ],
      "execution_count": 12,
      "outputs": []
    },
    {
      "cell_type": "code",
      "metadata": {
        "id": "pZAslS0NFSkZ"
      },
      "source": [
        "# isolate the 'items' key from the json object and store in 'data' --> the item key hold values containing my variables of interest\n",
        "data = data['items']"
      ],
      "execution_count": 13,
      "outputs": []
    },
    {
      "cell_type": "code",
      "metadata": {
        "id": "DATJ_ISIMCK9"
      },
      "source": [
        "# get top 10 data\n",
        "top_10 = data[:10]"
      ],
      "execution_count": 34,
      "outputs": []
    },
    {
      "cell_type": "code",
      "metadata": {
        "id": "iM3PkXGaFTcw",
        "outputId": "bdd0a5df-88b8-47eb-c59e-4c782c198d27",
        "colab": {
          "base_uri": "https://localhost:8080/"
        }
      },
      "source": [
        "votes_list = []\n",
        "for item in top_10:\n",
        "  owner = item['owner']['display_name']\n",
        "  votes = item['score']\n",
        "  top_ten_votes = {\n",
        "      'name': owner,\n",
        "      'votes': votes\n",
        "  }\n",
        "  votes_list.append(top_ten_votes)\n",
        "print(votes_list)"
      ],
      "execution_count": 49,
      "outputs": [
        {
          "output_type": "stream",
          "name": "stdout",
          "text": [
            "[{'name': 'Secundi', 'votes': 10}, {'name': 'Mark', 'votes': 10}, {'name': 'vallentin', 'votes': 8}, {'name': 'Tim Peters', 'votes': 7}, {'name': 'HolyBlackCat', 'votes': 6}, {'name': 'PiotrNycz', 'votes': 6}, {'name': 'Sep Roland', 'votes': 6}, {'name': 'ahnlabb', 'votes': 6}, {'name': 'Voyager', 'votes': 5}, {'name': 'Wiktor Stribiżew', 'votes': 5}]\n"
          ]
        }
      ]
    },
    {
      "cell_type": "code",
      "metadata": {
        "id": "Mxx4eHJdPm5z"
      },
      "source": [
        ""
      ],
      "execution_count": null,
      "outputs": []
    }
  ]
}