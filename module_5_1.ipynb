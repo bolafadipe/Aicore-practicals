{
  "nbformat": 4,
  "nbformat_minor": 0,
  "metadata": {
    "colab": {
      "name": "module_5.1.ipynb",
      "provenance": [],
      "authorship_tag": "ABX9TyMGuwNlUcGIM3ZpKsOM1dZR",
      "include_colab_link": true
    },
    "kernelspec": {
      "name": "python3",
      "display_name": "Python 3"
    },
    "language_info": {
      "name": "python"
    }
  },
  "cells": [
    {
      "cell_type": "markdown",
      "metadata": {
        "id": "view-in-github",
        "colab_type": "text"
      },
      "source": [
        "<a href=\"https://colab.research.google.com/github/bolafadipe/Aicore-practicals/blob/main/module_5_1.ipynb\" target=\"_parent\"><img src=\"https://colab.research.google.com/assets/colab-badge.svg\" alt=\"Open In Colab\"/></a>"
      ]
    },
    {
      "cell_type": "markdown",
      "metadata": {
        "id": "TPtfAyNr7TDP"
      },
      "source": [
        "# APIs and requests"
      ]
    },
    {
      "cell_type": "markdown",
      "metadata": {
        "id": "VV_fvI23-luF"
      },
      "source": [
        "### Challenge 1:\n",
        "Top upvoted\n",
        "- Look at the StackExchange API docs [here](https://api.stackexchange.com/docs)\n",
        "\n",
        "- Find the 10 most highly voted posts in the last day.\n",
        "\n",
        "- How many upvotes do they have?\n",
        "\n",
        "- Make sure to use the query string params defined in the documentation."
      ]
    },
    {
      "cell_type": "code",
      "metadata": {
        "id": "KffqSb4Q7VnO"
      },
      "source": [
        "import requests"
      ],
      "execution_count": 1,
      "outputs": []
    },
    {
      "cell_type": "code",
      "metadata": {
        "id": "-IhhobjVEKxy"
      },
      "source": [
        "url = 'https://api.stackexchange.com/2.3/posts?fromdate=1635552000&todate=1635638400&order=asc&sort=votes&site=stackoverflow'"
      ],
      "execution_count": 13,
      "outputs": []
    },
    {
      "cell_type": "code",
      "metadata": {
        "id": "DYaqR7EFEPnD"
      },
      "source": [
        "res = requests.get(url)"
      ],
      "execution_count": 14,
      "outputs": []
    },
    {
      "cell_type": "code",
      "metadata": {
        "colab": {
          "base_uri": "https://localhost:8080/"
        },
        "id": "IUIVxkHFERyh",
        "outputId": "663b65fd-10a5-4dd2-81e9-08df23acbce0"
      },
      "source": [
        "res.status_code"
      ],
      "execution_count": 15,
      "outputs": [
        {
          "output_type": "execute_result",
          "data": {
            "text/plain": [
              "200"
            ]
          },
          "metadata": {},
          "execution_count": 15
        }
      ]
    },
    {
      "cell_type": "code",
      "metadata": {
        "id": "rdhanNvfL314"
      },
      "source": [
        "if (\n",
        "   res.status_code != 204 and res.headers[\"content-type\"].strip().startswith(\"application/json\")\n",
        "):\n",
        "   try:\n",
        "      res.json()\n",
        "   except ValueError:\n",
        "     print('error')"
      ],
      "execution_count": 16,
      "outputs": []
    },
    {
      "cell_type": "code",
      "metadata": {
        "id": "vWidMyDJHp5v"
      },
      "source": [
        "json_response = res.json()"
      ],
      "execution_count": 18,
      "outputs": []
    },
    {
      "cell_type": "code",
      "metadata": {
        "id": "cLiHiKu6thSn"
      },
      "source": [
        "with open('json_response.json', 'wb') as f:\n",
        "  f.write(res.content)"
      ],
      "execution_count": 24,
      "outputs": []
    },
    {
      "cell_type": "code",
      "metadata": {
        "id": "ZTrDvRHzrI9O"
      },
      "source": [
        "import pandas as pd"
      ],
      "execution_count": 19,
      "outputs": []
    },
    {
      "cell_type": "code",
      "metadata": {
        "id": "3i4Mtikotbb2"
      },
      "source": [
        "data = pd.read_json('json_response.json')"
      ],
      "execution_count": 26,
      "outputs": []
    },
    {
      "cell_type": "code",
      "metadata": {
        "colab": {
          "base_uri": "https://localhost:8080/",
          "height": 202
        },
        "id": "xOdeFfD3vXa9",
        "outputId": "b0922bd8-4db1-46d6-93c7-06ce8d876b8f"
      },
      "source": [
        "data.head()"
      ],
      "execution_count": 27,
      "outputs": [
        {
          "output_type": "execute_result",
          "data": {
            "text/html": [
              "<div>\n",
              "<style scoped>\n",
              "    .dataframe tbody tr th:only-of-type {\n",
              "        vertical-align: middle;\n",
              "    }\n",
              "\n",
              "    .dataframe tbody tr th {\n",
              "        vertical-align: top;\n",
              "    }\n",
              "\n",
              "    .dataframe thead th {\n",
              "        text-align: right;\n",
              "    }\n",
              "</style>\n",
              "<table border=\"1\" class=\"dataframe\">\n",
              "  <thead>\n",
              "    <tr style=\"text-align: right;\">\n",
              "      <th></th>\n",
              "      <th>items</th>\n",
              "      <th>has_more</th>\n",
              "      <th>quota_max</th>\n",
              "      <th>quota_remaining</th>\n",
              "    </tr>\n",
              "  </thead>\n",
              "  <tbody>\n",
              "    <tr>\n",
              "      <th>0</th>\n",
              "      <td>{'owner': {'account_id': 22887735, 'reputation...</td>\n",
              "      <td>True</td>\n",
              "      <td>300</td>\n",
              "      <td>298</td>\n",
              "    </tr>\n",
              "    <tr>\n",
              "      <th>1</th>\n",
              "      <td>{'owner': {'account_id': 23193282, 'reputation...</td>\n",
              "      <td>True</td>\n",
              "      <td>300</td>\n",
              "      <td>298</td>\n",
              "    </tr>\n",
              "    <tr>\n",
              "      <th>2</th>\n",
              "      <td>{'owner': {'account_id': 6556063, 'reputation'...</td>\n",
              "      <td>True</td>\n",
              "      <td>300</td>\n",
              "      <td>298</td>\n",
              "    </tr>\n",
              "    <tr>\n",
              "      <th>3</th>\n",
              "      <td>{'owner': {'account_id': 14124560, 'reputation...</td>\n",
              "      <td>True</td>\n",
              "      <td>300</td>\n",
              "      <td>298</td>\n",
              "    </tr>\n",
              "    <tr>\n",
              "      <th>4</th>\n",
              "      <td>{'owner': {'account_id': 23190226, 'reputation...</td>\n",
              "      <td>True</td>\n",
              "      <td>300</td>\n",
              "      <td>298</td>\n",
              "    </tr>\n",
              "  </tbody>\n",
              "</table>\n",
              "</div>"
            ],
            "text/plain": [
              "                                               items  ...  quota_remaining\n",
              "0  {'owner': {'account_id': 22887735, 'reputation...  ...              298\n",
              "1  {'owner': {'account_id': 23193282, 'reputation...  ...              298\n",
              "2  {'owner': {'account_id': 6556063, 'reputation'...  ...              298\n",
              "3  {'owner': {'account_id': 14124560, 'reputation...  ...              298\n",
              "4  {'owner': {'account_id': 23190226, 'reputation...  ...              298\n",
              "\n",
              "[5 rows x 4 columns]"
            ]
          },
          "metadata": {},
          "execution_count": 27
        }
      ]
    },
    {
      "cell_type": "code",
      "metadata": {
        "colab": {
          "base_uri": "https://localhost:8080/"
        },
        "id": "Ro0MRDsfw250",
        "outputId": "927be154-f6ad-4b16-b339-6661baa76e26"
      },
      "source": [
        "json_response['items'][0]"
      ],
      "execution_count": 36,
      "outputs": [
        {
          "output_type": "execute_result",
          "data": {
            "text/plain": [
              "{'content_license': 'CC BY-SA 4.0',\n",
              " 'creation_date': 1635624803,\n",
              " 'last_activity_date': 1635665483,\n",
              " 'last_edit_date': 1635665483,\n",
              " 'link': 'https://stackoverflow.com/q/69781807',\n",
              " 'owner': {'account_id': 22887735,\n",
              "  'display_name': 'Paolo',\n",
              "  'link': 'https://stackoverflow.com/users/17028354/paolo',\n",
              "  'profile_image': 'https://www.gravatar.com/avatar/437cb145995479f79287fac9ecc45c73?s=256&d=identicon&r=PG',\n",
              "  'reputation': 1,\n",
              "  'user_id': 17028354,\n",
              "  'user_type': 'registered'},\n",
              " 'post_id': 69781807,\n",
              " 'post_type': 'question',\n",
              " 'score': -9}"
            ]
          },
          "metadata": {},
          "execution_count": 36
        }
      ]
    },
    {
      "cell_type": "code",
      "metadata": {
        "colab": {
          "base_uri": "https://localhost:8080/"
        },
        "id": "dMK1uvA80lGX",
        "outputId": "f852145c-626f-43f2-f335-41d18d35c508"
      },
      "source": [
        "for ele, value in json_response.items():\n",
        "  print(ele, value)"
      ],
      "execution_count": 41,
      "outputs": [
        {
          "output_type": "stream",
          "name": "stdout",
          "text": [
            "items [{'owner': {'account_id': 22887735, 'reputation': 1, 'user_id': 17028354, 'user_type': 'registered', 'profile_image': 'https://www.gravatar.com/avatar/437cb145995479f79287fac9ecc45c73?s=256&d=identicon&r=PG', 'display_name': 'Paolo', 'link': 'https://stackoverflow.com/users/17028354/paolo'}, 'score': -9, 'last_edit_date': 1635665483, 'last_activity_date': 1635665483, 'creation_date': 1635624803, 'post_type': 'question', 'post_id': 69781807, 'content_license': 'CC BY-SA 4.0', 'link': 'https://stackoverflow.com/q/69781807'}, {'owner': {'account_id': 23193282, 'reputation': 1, 'user_id': 17289312, 'user_type': 'registered', 'profile_image': 'https://lh3.googleusercontent.com/a/AATXAJxVwcPcdmi-iW7ugR3OQnLyc748A2V5QCIJk95z=k-s256', 'display_name': 'sten persidski', 'link': 'https://stackoverflow.com/users/17289312/sten-persidski'}, 'score': -8, 'last_edit_date': 1635661529, 'last_activity_date': 1635661529, 'creation_date': 1635632336, 'post_type': 'question', 'post_id': 69782548, 'content_license': 'CC BY-SA 4.0', 'link': 'https://stackoverflow.com/q/69782548'}, {'owner': {'account_id': 6556063, 'reputation': 1, 'user_id': 5068729, 'user_type': 'registered', 'profile_image': 'https://lh3.googleusercontent.com/-5KQfVB3D41s/AAAAAAAAAAI/AAAAAAAAACY/bzcX8-PbeX8/photo.jpg?sz=256', 'display_name': 'Abhilash Mohan', 'link': 'https://stackoverflow.com/users/5068729/abhilash-mohan'}, 'score': -8, 'last_edit_date': 1635598112, 'last_activity_date': 1635598112, 'creation_date': 1635576505, 'post_type': 'question', 'post_id': 69777367, 'content_license': 'CC BY-SA 4.0', 'link': 'https://stackoverflow.com/q/69777367'}, {'owner': {'account_id': 14124560, 'reputation': 328, 'user_id': 10204275, 'user_type': 'registered', 'profile_image': 'https://www.gravatar.com/avatar/2d1a1408af5675aef2501169b0e90ea7?s=256&d=identicon&r=PG&f=1', 'display_name': 'Fredyonge', 'link': 'https://stackoverflow.com/users/10204275/fredyonge'}, 'score': -8, 'last_edit_date': 1635590908, 'last_activity_date': 1635592697, 'creation_date': 1635590795, 'post_type': 'question', 'post_id': 69778875, 'content_license': 'CC BY-SA 4.0', 'link': 'https://stackoverflow.com/q/69778875'}, {'owner': {'account_id': 23190226, 'reputation': 1, 'user_id': 17286698, 'user_type': 'registered', 'profile_image': 'https://lh3.googleusercontent.com/a/AATXAJwwPZb-A6FhLAr7sz0SYtGn3dMyO0qjGu7Qtwx5=k-s256', 'display_name': 'selina salayta', 'link': 'https://stackoverflow.com/users/17286698/selina-salayta'}, 'score': -7, 'last_activity_date': 1635591481, 'creation_date': 1635588642, 'post_type': 'question', 'post_id': 69778618, 'content_license': 'CC BY-SA 4.0', 'link': 'https://stackoverflow.com/q/69778618'}, {'owner': {'account_id': 23191313, 'reputation': 1, 'user_id': 17287652, 'user_type': 'registered', 'profile_image': 'https://lh3.googleusercontent.com/a/AATXAJyONBR26rWe2efRf8UD3AhytcbR1iCvljjKEW7H=k-s256', 'display_name': 'yama n', 'link': 'https://stackoverflow.com/users/17287652/yama-n'}, 'score': -7, 'last_activity_date': 1635598783, 'creation_date': 1635598783, 'post_type': 'question', 'post_id': 69779855, 'content_license': 'CC BY-SA 4.0', 'link': 'https://stackoverflow.com/q/69779855'}, {'owner': {'account_id': 23192913, 'reputation': 1, 'user_id': 17289012, 'user_type': 'registered', 'profile_image': 'https://www.gravatar.com/avatar/9db2a0ff680fb4a41bad9ea4fed23260?s=256&d=identicon&r=PG', 'display_name': 'aam', 'link': 'https://stackoverflow.com/users/17289012/aam'}, 'score': -7, 'last_edit_date': 1635630775, 'last_activity_date': 1635670069, 'creation_date': 1635630330, 'post_type': 'question', 'post_id': 69782369, 'content_license': 'CC BY-SA 4.0', 'link': 'https://stackoverflow.com/q/69782369'}, {'owner': {'account_id': 15935681, 'reputation': 1, 'user_id': 11543900, 'user_type': 'registered', 'profile_image': 'https://lh5.googleusercontent.com/-pporrA-ijAU/AAAAAAAAAAI/AAAAAAAAAOs/NEuQFkSMfcQ/photo.jpg?sz=256', 'display_name': 'Nnamdi Ezeh', 'link': 'https://stackoverflow.com/users/11543900/nnamdi-ezeh'}, 'score': -6, 'last_edit_date': 1635626504, 'last_activity_date': 1635626504, 'creation_date': 1635626421, 'post_type': 'question', 'post_id': 69781986, 'content_license': 'CC BY-SA 4.0', 'link': 'https://stackoverflow.com/q/69781986'}, {'owner': {'account_id': 20971313, 'reputation': 1, 'user_id': 15408413, 'user_type': 'registered', 'profile_image': 'https://www.gravatar.com/avatar/0915b1a2ee7e1fa42425e66270602435?s=256&d=identicon&r=PG&f=1', 'display_name': 'chiggywiggy', 'link': 'https://stackoverflow.com/users/15408413/chiggywiggy'}, 'score': -6, 'last_activity_date': 1635626714, 'creation_date': 1635626714, 'post_type': 'question', 'post_id': 69782027, 'content_license': 'CC BY-SA 4.0', 'link': 'https://stackoverflow.com/q/69782027'}, {'owner': {'account_id': 19755913, 'reputation': 1, 'user_id': 14466205, 'user_type': 'registered', 'profile_image': 'https://lh3.googleusercontent.com/a-/AOh14GiAPmAwciEAdRKTXmdfEAP_dLYOfyqpCwTUJakZ=k-s256', 'display_name': 'Hellobben', 'link': 'https://stackoverflow.com/users/14466205/hellobben'}, 'score': -6, 'last_activity_date': 1635628049, 'creation_date': 1635623179, 'post_type': 'question', 'post_id': 69781612, 'content_license': 'CC BY-SA 4.0', 'link': 'https://stackoverflow.com/q/69781612'}, {'owner': {'account_id': 19551250, 'reputation': 1, 'user_id': 14306794, 'user_type': 'registered', 'profile_image': 'https://www.gravatar.com/avatar/688383cb8835339ee45d3a6eeef67915?s=256&d=identicon&r=PG&f=1', 'display_name': 'rilla', 'link': 'https://stackoverflow.com/users/14306794/rilla'}, 'score': -6, 'last_edit_date': 1635632059, 'last_activity_date': 1635632059, 'creation_date': 1635622383, 'post_type': 'question', 'post_id': 69781506, 'content_license': 'CC BY-SA 4.0', 'link': 'https://stackoverflow.com/q/69781506'}, {'owner': {'account_id': 18624727, 'reputation': 161, 'user_id': 13574106, 'user_type': 'registered', 'profile_image': 'https://www.gravatar.com/avatar/a365edcea9a25d631648e0f312198a8e?s=256&d=identicon&r=PG&f=1', 'display_name': 'Simonsoft177', 'link': 'https://stackoverflow.com/users/13574106/simonsoft177'}, 'score': -6, 'last_edit_date': 1635635711, 'last_activity_date': 1635635711, 'creation_date': 1635633349, 'post_type': 'question', 'post_id': 69782648, 'content_license': 'CC BY-SA 4.0', 'link': 'https://stackoverflow.com/q/69782648'}, {'owner': {'account_id': 23191487, 'reputation': 1, 'user_id': 17287803, 'user_type': 'registered', 'profile_image': 'https://lh3.googleusercontent.com/a-/AOh14GjD8jNtGcSR6YMX1qlf_3ERaUf9IpjGQUS7E7-bbA=k-s256', 'display_name': 'aqwqw', 'link': 'https://stackoverflow.com/users/17287803/aqwqw'}, 'score': -6, 'last_edit_date': 1635601122, 'last_activity_date': 1635602672, 'creation_date': 1635600979, 'post_type': 'question', 'post_id': 69780102, 'content_license': 'CC BY-SA 4.0', 'link': 'https://stackoverflow.com/q/69780102'}, {'owner': {'account_id': 23191972, 'reputation': 1, 'user_id': 17288213, 'user_type': 'registered', 'profile_image': 'https://lh3.googleusercontent.com/a-/AOh14Gg6HmT1cs-MJvG0QOkK2DdpLL5D0BwM7tN7vfFffg=k-s256', 'display_name': 'Shaifali Rathore', 'link': 'https://stackoverflow.com/users/17288213/shaifali-rathore'}, 'score': -6, 'last_edit_date': 1635617124, 'last_activity_date': 1635617124, 'creation_date': 1635616264, 'post_type': 'question', 'post_id': 69780735, 'content_license': 'CC BY-SA 4.0', 'link': 'https://stackoverflow.com/q/69780735'}, {'owner': {'account_id': 18905241, 'reputation': 1, 'user_id': 13792508, 'user_type': 'registered', 'profile_image': 'https://www.gravatar.com/avatar/b8385d2c068399fd7d09e2e16e99145b?s=256&d=identicon&r=PG&f=1', 'display_name': 'Ahmed Malik', 'link': 'https://stackoverflow.com/users/13792508/ahmed-malik'}, 'score': -6, 'last_edit_date': 1635592489, 'last_activity_date': 1635592489, 'creation_date': 1635592401, 'post_type': 'question', 'post_id': 69779080, 'content_license': 'CC BY-SA 4.0', 'link': 'https://stackoverflow.com/q/69779080'}, {'owner': {'account_id': 19314876, 'reputation': 1, 'user_id': 14119863, 'user_type': 'registered', 'profile_image': 'https://graph.facebook.com/1218770218476032/picture?type=large', 'display_name': 'Suchy ', 'link': 'https://stackoverflow.com/users/14119863/suchy'}, 'score': -5, 'last_activity_date': 1635592634, 'creation_date': 1635591742, 'post_type': 'question', 'post_id': 69778991, 'content_license': 'CC BY-SA 4.0', 'link': 'https://stackoverflow.com/q/69778991'}, {'owner': {'account_id': 23179293, 'reputation': 1, 'user_id': 17277333, 'user_type': 'registered', 'profile_image': 'https://www.gravatar.com/avatar/7af339bcd2a9b670e8f6e0b84569e4a3?s=256&d=identicon&r=PG&f=1', 'display_name': 'Luz Dary Mara&#241;on', 'link': 'https://stackoverflow.com/users/17277333/luz-dary-mara%c3%b1on'}, 'score': -5, 'last_activity_date': 1635600196, 'creation_date': 1635588567, 'post_type': 'question', 'post_id': 69778604, 'content_license': 'CC BY-SA 4.0', 'link': 'https://stackoverflow.com/q/69778604'}, {'owner': {'account_id': 23190769, 'reputation': 1, 'user_id': 17287181, 'user_type': 'registered', 'profile_image': 'https://www.gravatar.com/avatar/719963af753f1822398be3dcb6ed42fc?s=256&d=identicon&r=PG', 'display_name': 'DorGoetzer', 'link': 'https://stackoverflow.com/users/17287181/dorgoetzer'}, 'score': -5, 'last_activity_date': 1635594765, 'creation_date': 1635594765, 'post_type': 'question', 'post_id': 69779372, 'content_license': 'CC BY-SA 4.0', 'link': 'https://stackoverflow.com/q/69779372'}, {'owner': {'account_id': 22880468, 'reputation': 1, 'user_id': 17022135, 'user_type': 'registered', 'profile_image': 'https://lh3.googleusercontent.com/a-/AOh14GghQRa0NZGwczkjFwKj9q2k5_uhCZw4-H7aD_s=k-s256', 'display_name': 'jack the ripper', 'link': 'https://stackoverflow.com/users/17022135/jack-the-ripper'}, 'score': -5, 'last_activity_date': 1635596944, 'creation_date': 1635596032, 'post_type': 'question', 'post_id': 69779528, 'content_license': 'CC BY-SA 4.0', 'link': 'https://stackoverflow.com/q/69779528'}, {'owner': {'account_id': 17234998, 'reputation': 1, 'user_id': 12478666, 'user_type': 'registered', 'profile_image': 'https://lh3.googleusercontent.com/a-/AAuE7mDJwyHXBBjd-7K4WW0HrK8Kl-N4mSRI99uNuh25=k-s256', 'display_name': 'alb3rtsk21', 'link': 'https://stackoverflow.com/users/12478666/alb3rtsk21'}, 'score': -5, 'last_activity_date': 1635577926, 'creation_date': 1635577733, 'post_type': 'question', 'post_id': 69777481, 'content_license': 'CC BY-SA 4.0', 'link': 'https://stackoverflow.com/q/69777481'}, {'owner': {'account_id': 19448883, 'reputation': 117, 'user_id': 14225775, 'user_type': 'registered', 'profile_image': 'https://www.gravatar.com/avatar/834ca87d21c4f504dd0cd08e99d4329e?s=256&d=identicon&r=PG&f=1', 'display_name': 'kgcusi', 'link': 'https://stackoverflow.com/users/14225775/kgcusi'}, 'score': -5, 'last_activity_date': 1635587943, 'creation_date': 1635578708, 'post_type': 'question', 'post_id': 69777550, 'content_license': 'CC BY-SA 4.0', 'link': 'https://stackoverflow.com/q/69777550'}, {'owner': {'account_id': 21202313, 'reputation': 1, 'user_id': 15592687, 'user_type': 'registered', 'profile_image': 'https://www.gravatar.com/avatar/e32d6512624d44c129232b2a5c6aa85e?s=256&d=identicon&r=PG&f=1', 'display_name': 'Bunty Bhoi', 'link': 'https://stackoverflow.com/users/15592687/bunty-bhoi'}, 'score': -5, 'last_edit_date': 1635587054, 'last_activity_date': 1635587054, 'creation_date': 1635586785, 'post_type': 'question', 'post_id': 69778411, 'content_license': 'CC BY-SA 4.0', 'link': 'https://stackoverflow.com/q/69778411'}, {'owner': {'account_id': 23190054, 'reputation': 7, 'user_id': 17286542, 'user_type': 'registered', 'profile_image': 'https://graph.facebook.com/840152193330854/picture?type=large', 'display_name': 'ชูการ์ ไรเดอร์', 'link': 'https://stackoverflow.com/users/17286542/%e0%b8%8a%e0%b8%b9%e0%b8%81%e0%b8%b2%e0%b8%a3%e0%b9%8c-%e0%b9%84%e0%b8%a3%e0%b9%80%e0%b8%94%e0%b8%ad%e0%b8%a3%e0%b9%8c'}, 'score': -5, 'last_edit_date': 1635589160, 'last_activity_date': 1635589160, 'creation_date': 1635587312, 'post_type': 'question', 'post_id': 69778477, 'content_license': 'CC BY-SA 4.0', 'link': 'https://stackoverflow.com/q/69778477'}, {'owner': {'account_id': 5397862, 'reputation': 43, 'user_id': 6656729, 'user_type': 'registered', 'accept_rate': 57, 'profile_image': 'https://i.stack.imgur.com/KztVW.jpg?s=256&g=1', 'display_name': 'RaKo', 'link': 'https://stackoverflow.com/users/6656729/rako'}, 'score': -5, 'last_edit_date': 1635566483, 'last_activity_date': 1635567483, 'creation_date': 1635554161, 'post_type': 'question', 'post_id': 69775973, 'content_license': 'CC BY-SA 4.0', 'link': 'https://stackoverflow.com/q/69775973'}, {'owner': {'account_id': 9878406, 'reputation': 1, 'user_id': 7315271, 'user_type': 'registered', 'profile_image': 'https://www.gravatar.com/avatar/ba4be03b247a75a54254a5692a1cade4?s=256&d=identicon&r=PG&f=1', 'display_name': 'Yash Chetnani', 'link': 'https://stackoverflow.com/users/7315271/yash-chetnani'}, 'score': -5, 'last_edit_date': 1635570842, 'last_activity_date': 1635570842, 'creation_date': 1635566550, 'post_type': 'question', 'post_id': 69776698, 'content_license': 'CC BY-SA 4.0', 'link': 'https://stackoverflow.com/q/69776698'}, {'owner': {'account_id': 23193465, 'reputation': 1, 'user_id': 17289472, 'user_type': 'registered', 'profile_image': 'https://www.gravatar.com/avatar/456735627403f75ae9fcb8edf699f398?s=256&d=identicon&r=PG', 'display_name': 'user17289472', 'link': 'https://stackoverflow.com/users/17289472/user17289472'}, 'score': -5, 'last_activity_date': 1635659457, 'creation_date': 1635633723, 'post_type': 'question', 'post_id': 69782671, 'content_license': 'CC BY-SA 4.0', 'link': 'https://stackoverflow.com/q/69782671'}, {'owner': {'account_id': 20530847, 'reputation': 1, 'user_id': 15068150, 'user_type': 'registered', 'profile_image': 'https://i.stack.imgur.com/jF3jM.jpg?s=256&g=1', 'display_name': 'Rafa', 'link': 'https://stackoverflow.com/users/15068150/rafa'}, 'score': -5, 'last_edit_date': 1635632627, 'last_activity_date': 1635637261, 'creation_date': 1635632423, 'post_type': 'question', 'post_id': 69782556, 'content_license': 'CC BY-SA 4.0', 'link': 'https://stackoverflow.com/q/69782556'}, {'owner': {'account_id': 19422408, 'reputation': 1, 'user_id': 14204666, 'user_type': 'registered', 'profile_image': 'https://www.gravatar.com/avatar/275be6a124085231361f8ed24f69bc62?s=256&d=identicon&r=PG&f=1', 'display_name': 'Vora', 'link': 'https://stackoverflow.com/users/14204666/vora'}, 'score': -5, 'last_activity_date': 1635634317, 'creation_date': 1635634317, 'post_type': 'question', 'post_id': 69782721, 'content_license': 'CC BY-SA 4.0', 'link': 'https://stackoverflow.com/q/69782721'}, {'owner': {'account_id': 23089181, 'reputation': 1, 'user_id': 17200279, 'user_type': 'registered', 'profile_image': 'https://www.gravatar.com/avatar/3dd3987e20addab82b560476694d15f0?s=256&d=identicon&r=PG', 'display_name': 'Rihards Gailis', 'link': 'https://stackoverflow.com/users/17200279/rihards-gailis'}, 'score': -5, 'last_activity_date': 1635620934, 'creation_date': 1635620934, 'post_type': 'question', 'post_id': 69781338, 'content_license': 'CC BY-SA 4.0', 'link': 'https://stackoverflow.com/q/69781338'}, {'owner': {'account_id': 14246906, 'reputation': 9, 'user_id': 10291666, 'user_type': 'registered', 'profile_image': 'https://www.gravatar.com/avatar/02ddc9cce7108ee4d100dce0314a9e79?s=256&d=identicon&r=PG', 'display_name': 'Amirhossein Davatgari', 'link': 'https://stackoverflow.com/users/10291666/amirhossein-davatgari'}, 'score': -5, 'last_edit_date': 1635625080, 'last_activity_date': 1635649176, 'creation_date': 1635624069, 'post_type': 'question', 'post_id': 69781716, 'content_license': 'CC BY-SA 4.0', 'link': 'https://stackoverflow.com/q/69781716'}]\n",
            "has_more True\n",
            "quota_max 300\n",
            "quota_remaining 298\n"
          ]
        }
      ]
    },
    {
      "cell_type": "code",
      "metadata": {
        "id": "EuFvjmq52IWf"
      },
      "source": [
        ""
      ],
      "execution_count": null,
      "outputs": []
    }
  ]
}