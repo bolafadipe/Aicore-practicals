{
  "nbformat": 4,
  "nbformat_minor": 0,
  "metadata": {
    "colab": {
      "name": "module_1.ipynb",
      "provenance": [],
      "authorship_tag": "ABX9TyNK+/XJn5/yNyxvDjTYrUtt"
    },
    "kernelspec": {
      "name": "python3",
      "display_name": "Python 3"
    },
    "language_info": {
      "name": "python"
    }
  },
  "cells": [
    {
      "cell_type": "code",
      "metadata": {
        "id": "_HnjmytMpfnQ"
      },
      "source": [
        ""
      ],
      "execution_count": null,
      "outputs": []
    },
    {
      "cell_type": "markdown",
      "metadata": {
        "id": "HTuLhrnFpsL8"
      },
      "source": [
        "# This are my solutions to module 1 practicals:"
      ]
    },
    {
      "cell_type": "markdown",
      "metadata": {
        "id": "nGMv9grhqFFC"
      },
      "source": [
        "## Practical 1: **change directory and move around**"
      ]
    },
    {
      "cell_type": "code",
      "metadata": {
        "id": "XsCmpBXtqZZS"
      },
      "source": [
        "# Q1. - open a terminal --> I opened my git bash terminal for this practical\n"
      ],
      "execution_count": 1,
      "outputs": []
    },
    {
      "cell_type": "code",
      "metadata": {
        "id": "xuWURChpr4ew"
      },
      "source": [
        "# Q2. - Change directory (folder) and move into one inside it\n",
        "# A2. -$ cd my_folder"
      ],
      "execution_count": 2,
      "outputs": []
    },
    {
      "cell_type": "code",
      "metadata": {
        "id": "SYxBayXgsSuX"
      },
      "source": [
        "# Q3. - list the contents of this folder\n",
        "# A3. -$ ls"
      ],
      "execution_count": 3,
      "outputs": []
    },
    {
      "cell_type": "code",
      "metadata": {
        "id": "eu-nliRjskSa"
      },
      "source": [
        "# Q4. - List all of the contents in the folder by using the -a flag after the ls command\n",
        "# A4. -$ ls -a"
      ],
      "execution_count": 4,
      "outputs": []
    },
    {
      "cell_type": "code",
      "metadata": {
        "id": "-R6oavLGsxLB"
      },
      "source": [
        "# Q5. - How do I move back up to the parent folder?\n",
        "# A5. -$ cd .."
      ],
      "execution_count": 5,
      "outputs": []
    },
    {
      "cell_type": "markdown",
      "metadata": {
        "id": "q1kNRNGOtKlw"
      },
      "source": [
        "### Practical 2: **Say it back to me**"
      ]
    },
    {
      "cell_type": "code",
      "metadata": {
        "id": "PEqLsisJteuY"
      },
      "source": [
        "# Q1. - - Use the echo command to print your name to stdout (to the terminal)\n",
        "# A1. -$ echo 'Bola'"
      ],
      "execution_count": 6,
      "outputs": []
    },
    {
      "cell_type": "code",
      "metadata": {
        "id": "2B0Am4mHundH"
      },
      "source": [
        "# Q2. - Redirect the name into a file called myname.txt\n",
        "# A2. -$ echo 'Bola' > myname.txt"
      ],
      "execution_count": 7,
      "outputs": []
    },
    {
      "cell_type": "code",
      "metadata": {
        "id": "c6nqLBb-u2gp"
      },
      "source": [
        "# Q3. - Add your name to the file by using redirection to append\n",
        "# A3. -$ echo 'Bola' >> myname.txt"
      ],
      "execution_count": 8,
      "outputs": []
    },
    {
      "cell_type": "code",
      "metadata": {
        "id": "lm6bhnNFvK6R"
      },
      "source": [
        ""
      ],
      "execution_count": null,
      "outputs": []
    },
    {
      "cell_type": "markdown",
      "metadata": {
        "id": "MZy1GAIyvUpR"
      },
      "source": [
        "## Practical 3: **Display some files**"
      ]
    },
    {
      "cell_type": "code",
      "metadata": {
        "id": "j68xXVELveNl"
      },
      "source": [
        "# Q1. - Create two blank files using touch and put something inside them\n",
        "# A. -$ touch file1.txt file2.txt\n",
        "#    -$ echo 'something' >> file1.txt\n",
        "#    -$ echo 'another something' >> file2.txt\n"
      ],
      "execution_count": 11,
      "outputs": []
    },
    {
      "cell_type": "code",
      "metadata": {
        "id": "tV4SXqyEx2Ag"
      },
      "source": [
        "# Q2. - use the cat command to... --> incomplete question, however, I attempted to infer a possible completion\n",
        "# A2. -$ cat file1.txt file2.txt"
      ],
      "execution_count": 12,
      "outputs": []
    },
    {
      "cell_type": "code",
      "metadata": {
        "id": "rHSb4xUHzKgP"
      },
      "source": [
        ""
      ],
      "execution_count": null,
      "outputs": []
    },
    {
      "cell_type": "markdown",
      "metadata": {
        "id": "V1Pz6vQ3ze21"
      },
      "source": [
        "## Practical 3: **Make, edit and redirect to files, then count words**\n",
        "Using only the command line...\n",
        "\n",
        "1. Create a new folder and move into it\n",
        "\n",
        "2. Create 3 new files\n",
        "\n",
        "3. Redirect your name into the first file\n",
        "\n",
        "4. Append your age to the first file without using an editor (use redirection... but be careful not to overwrite it)\n",
        "\n",
        "5. Look up the command for how to count the number of words in a file and check that it works\n",
        "\n",
        "6. Now look up how to use the same command to count the number of letters in the file\n",
        "\n",
        "7. Create an alias for this command (more challenging)"
      ]
    },
    {
      "cell_type": "code",
      "metadata": {
        "id": "mDeWsFY-zl5l"
      },
      "source": [
        "#1. mkdir new_folder\n",
        "#1b. cd new_folder\n",
        "#2. touch file1.txt file2.txt file3.txt\n",
        "#3. echo 'Bola' > file1.txt\n",
        "#4. echo '30' >> file1.txt\n",
        "#5. wc -w file1.txt\n",
        "#6. wc -m file1.txt\n",
        "#7. alias W='wc -m'"
      ],
      "execution_count": 14,
      "outputs": []
    },
    {
      "cell_type": "markdown",
      "metadata": {
        "id": "yM5AQZU78Wot"
      },
      "source": [
        "## Practical 5: **Where am I?**\n",
        "- Look up a bash command to print your current working directory\n"
      ]
    },
    {
      "cell_type": "code",
      "metadata": {
        "id": "CKTLnWdy4bg0"
      },
      "source": [
        "#1. -$ pwd"
      ],
      "execution_count": 15,
      "outputs": []
    },
    {
      "cell_type": "code",
      "metadata": {
        "id": "LuSYNRdY8zkr"
      },
      "source": [
        ""
      ],
      "execution_count": null,
      "outputs": []
    },
    {
      "cell_type": "markdown",
      "metadata": {
        "id": "7b4UFT5G81-s"
      },
      "source": [
        "## Practical 6: **Create a blank file**\n",
        "- Use the touch command to create a blank file\n",
        "\n",
        "- Open it and edit it\n",
        "\n",
        "- List the contents of your file in \\\"long\\\" format (hint: use a flag)\n",
        "\n",
        "- Touch the same file again\n",
        "\n",
        "- What has changed when you list it again?"
      ]
    },
    {
      "cell_type": "code",
      "metadata": {
        "id": "6QEBzng79HQB"
      },
      "source": [
        "# 1. -$ touch blank_file.txt\n",
        "# 2. -$ cat blank_file.txt\n",
        "# 2b. -$ nano blank_file.txt\n",
        "# 3. -$ cat blank_file.txt\n",
        "# 4. -$ touch blank_file.txt"
      ],
      "execution_count": 16,
      "outputs": []
    },
    {
      "cell_type": "code",
      "metadata": {
        "id": "T8tDYbPyAa9N"
      },
      "source": [
        ""
      ],
      "execution_count": null,
      "outputs": []
    },
    {
      "cell_type": "markdown",
      "metadata": {
        "id": "1f_oiiYRAlMs"
      },
      "source": [
        "## Practical 7: **Environment variables**\n",
        "1. Look up how to create a variable in the terminal and save your name in a variable called \"name\"\n",
        "\n",
        "2. Edit your .bashrc file so that whenever you open a new terminal it says \"hello <your name>\" (you might need to edit a different file if you are using an alternative shell to bash, such as zsh, or are on windows) (you might want to delete this later, as it could get annoying)"
      ]
    },
    {
      "cell_type": "code",
      "metadata": {
        "id": "LR9nzLyxBHLT"
      },
      "source": [
        "#1 -$ name=Bola"
      ],
      "execution_count": null,
      "outputs": []
    }
  ]
}