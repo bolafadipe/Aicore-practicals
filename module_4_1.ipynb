{
  "nbformat": 4,
  "nbformat_minor": 0,
  "metadata": {
    "colab": {
      "name": "module_4.1.ipynb",
      "provenance": [],
      "authorship_tag": "ABX9TyPjJQYihAUWIJGcU+jN0hi5",
      "include_colab_link": true
    },
    "kernelspec": {
      "name": "python3",
      "display_name": "Python 3"
    },
    "language_info": {
      "name": "python"
    }
  },
  "cells": [
    {
      "cell_type": "markdown",
      "metadata": {
        "id": "view-in-github",
        "colab_type": "text"
      },
      "source": [
        "<a href=\"https://colab.research.google.com/github/bolafadipe/Aicore-practicals/blob/main/module_4_1.ipynb\" target=\"_parent\"><img src=\"https://colab.research.google.com/assets/colab-badge.svg\" alt=\"Open In Colab\"/></a>"
      ]
    },
    {
      "cell_type": "markdown",
      "metadata": {
        "id": "CtWDtn0XY9Jc"
      },
      "source": [
        "# Numpy"
      ]
    },
    {
      "cell_type": "markdown",
      "metadata": {
        "id": "BvCh1Ha-ZKc5"
      },
      "source": [
        "### Challenge 1.\n",
        "\n",
        "Fancy indexing\n",
        "- Look at the numpy docs to explore all the ways which you can use numpy to generate tensors/matrices/arrays of random numbers\n",
        "\n",
        "- Create a matrix of random numbers with 4 rows and 6 columns\n",
        "\n",
        "- Index the element on the 3rd row, 2nd col\n",
        "\n",
        "- Index all of the even rows\n",
        "\n",
        "- Index all of the elements on even rows and odd columns\n",
        "\n",
        "- Index the elements along the diagonal"
      ]
    },
    {
      "cell_type": "code",
      "metadata": {
        "id": "bI3yWJpOYMo6"
      },
      "source": [
        "import numpy as np"
      ],
      "execution_count": 1,
      "outputs": []
    },
    {
      "cell_type": "code",
      "metadata": {
        "colab": {
          "base_uri": "https://localhost:8080/"
        },
        "id": "jeRql3DFYxuR",
        "outputId": "1f07dd48-6588-4a35-df2e-fc336ae45c13"
      },
      "source": [
        "# matrix of random integers with 4 rows and 6 columns\n",
        "array = np.random.randint(10, size=(4, 6))\n",
        "print(array)"
      ],
      "execution_count": 4,
      "outputs": [
        {
          "output_type": "stream",
          "name": "stdout",
          "text": [
            "[[7 3 7 2 8 9]\n",
            " [5 5 0 4 4 1]\n",
            " [2 4 0 8 2 9]\n",
            " [8 7 2 6 8 8]]\n"
          ]
        }
      ]
    },
    {
      "cell_type": "code",
      "metadata": {
        "colab": {
          "base_uri": "https://localhost:8080/"
        },
        "id": "8eb27dFKYysh",
        "outputId": "0c07527a-9bf9-49af-d080-c3023ed65b09"
      },
      "source": [
        "# indexing the element on the 3rd row and 2nd col\n",
        "array[2,1]"
      ],
      "execution_count": 7,
      "outputs": [
        {
          "output_type": "execute_result",
          "data": {
            "text/plain": [
              "4"
            ]
          },
          "metadata": {},
          "execution_count": 7
        }
      ]
    },
    {
      "cell_type": "code",
      "metadata": {
        "colab": {
          "base_uri": "https://localhost:8080/"
        },
        "id": "8g6QFEqqiLiO",
        "outputId": "99935a1a-c8b0-4876-82f5-b4bbdd38d5e2"
      },
      "source": [
        "# indexing all even rows\n",
        "array[1::2]"
      ],
      "execution_count": 11,
      "outputs": [
        {
          "output_type": "execute_result",
          "data": {
            "text/plain": [
              "array([[5, 5, 0, 4, 4, 1],\n",
              "       [8, 7, 2, 6, 8, 8]])"
            ]
          },
          "metadata": {},
          "execution_count": 11
        }
      ]
    },
    {
      "cell_type": "code",
      "metadata": {
        "colab": {
          "base_uri": "https://localhost:8080/"
        },
        "id": "AkASRCpcitU6",
        "outputId": "b2c6987c-a2d8-4b08-fc19-bdb952fad9b1"
      },
      "source": [
        "# indexing all elements in even rows and odd columns\n",
        "array[1::2, ::2]"
      ],
      "execution_count": 14,
      "outputs": [
        {
          "output_type": "execute_result",
          "data": {
            "text/plain": [
              "array([[5, 0, 4],\n",
              "       [8, 2, 8]])"
            ]
          },
          "metadata": {},
          "execution_count": 14
        }
      ]
    },
    {
      "cell_type": "code",
      "metadata": {
        "id": "ofqBl1XFjEK6"
      },
      "source": [
        ""
      ],
      "execution_count": null,
      "outputs": []
    },
    {
      "cell_type": "markdown",
      "metadata": {
        "id": "dHPjV9t9jnXy"
      },
      "source": [
        "### Challenge 2:\n",
        "Broadcasting\n",
        "- Create a random matrix of binary values\n",
        "\n",
        "- Create a vector with as many rows as the matrix containing random positive integers between 1 and 5\n",
        "\n",
        "- Add the vector to every column using broadcasting\n",
        "\n",
        "- Create a new matrix by multiplying the columns of the original by the vector\n",
        "\n",
        "- Create a new matrix by multiplying every element by a scalar value"
      ]
    },
    {
      "cell_type": "code",
      "metadata": {
        "id": "u8SEmAK8ko0o"
      },
      "source": [
        "# create random matrix of binary values\n",
        "rand_matrix = np.random.randint(2, size=(4,6))"
      ],
      "execution_count": 16,
      "outputs": []
    },
    {
      "cell_type": "code",
      "metadata": {
        "colab": {
          "base_uri": "https://localhost:8080/"
        },
        "id": "oumBBBo8lc2h",
        "outputId": "06c06f62-3d83-485b-ad65-d14ebaec0dbc"
      },
      "source": [
        "rand_matrix"
      ],
      "execution_count": 17,
      "outputs": [
        {
          "output_type": "execute_result",
          "data": {
            "text/plain": [
              "array([[1, 0, 0, 1, 1, 0],\n",
              "       [1, 1, 0, 0, 1, 1],\n",
              "       [1, 0, 1, 1, 0, 1],\n",
              "       [0, 0, 0, 0, 1, 0]])"
            ]
          },
          "metadata": {},
          "execution_count": 17
        }
      ]
    },
    {
      "cell_type": "code",
      "metadata": {
        "id": "NaNRqfillifi"
      },
      "source": [
        "# create random vector with as many rows as rand_matrix\n",
        "rand_vector = np.random.randint(1,5, size=(4,6))"
      ],
      "execution_count": 18,
      "outputs": []
    },
    {
      "cell_type": "code",
      "metadata": {
        "colab": {
          "base_uri": "https://localhost:8080/"
        },
        "id": "gtVx_gRpm0UD",
        "outputId": "e678670d-19f0-4e8b-bc1b-8ebc2b655434"
      },
      "source": [
        "rand_vector"
      ],
      "execution_count": 19,
      "outputs": [
        {
          "output_type": "execute_result",
          "data": {
            "text/plain": [
              "array([[1, 3, 4, 2, 1, 3],\n",
              "       [3, 1, 2, 2, 4, 2],\n",
              "       [1, 4, 1, 4, 4, 3],\n",
              "       [1, 4, 2, 3, 2, 4]])"
            ]
          },
          "metadata": {},
          "execution_count": 19
        }
      ]
    },
    {
      "cell_type": "code",
      "metadata": {
        "id": "E1GjHz0znE76"
      },
      "source": [
        "new_vec = rand_matrix + rand_vector"
      ],
      "execution_count": 20,
      "outputs": []
    },
    {
      "cell_type": "code",
      "metadata": {
        "colab": {
          "base_uri": "https://localhost:8080/"
        },
        "id": "YzF3JM7EojMN",
        "outputId": "fabb4735-7726-4a17-a689-4121ed074b59"
      },
      "source": [
        "new_vec"
      ],
      "execution_count": 21,
      "outputs": [
        {
          "output_type": "execute_result",
          "data": {
            "text/plain": [
              "array([[2, 3, 4, 3, 2, 3],\n",
              "       [4, 2, 2, 2, 5, 3],\n",
              "       [2, 4, 2, 5, 4, 4],\n",
              "       [1, 4, 2, 3, 3, 4]])"
            ]
          },
          "metadata": {},
          "execution_count": 21
        }
      ]
    },
    {
      "cell_type": "code",
      "metadata": {
        "id": "dne7jb3mokO4"
      },
      "source": [
        "new_mat = rand_matrix * rand_vector"
      ],
      "execution_count": 22,
      "outputs": []
    },
    {
      "cell_type": "code",
      "metadata": {
        "colab": {
          "base_uri": "https://localhost:8080/"
        },
        "id": "opMEYhRGowv4",
        "outputId": "2ea4f387-dd28-4ac1-c411-c0be27b15bc2"
      },
      "source": [
        "new_mat"
      ],
      "execution_count": 23,
      "outputs": [
        {
          "output_type": "execute_result",
          "data": {
            "text/plain": [
              "array([[1, 0, 0, 2, 1, 0],\n",
              "       [3, 1, 0, 0, 4, 2],\n",
              "       [1, 0, 1, 4, 0, 3],\n",
              "       [0, 0, 0, 0, 2, 0]])"
            ]
          },
          "metadata": {},
          "execution_count": 23
        }
      ]
    },
    {
      "cell_type": "code",
      "metadata": {
        "colab": {
          "base_uri": "https://localhost:8080/"
        },
        "id": "OF-c1Rc_oxzz",
        "outputId": "4f48948f-9efc-42cc-b895-97a7a8022957"
      },
      "source": [
        "# multiply by a scalar\n",
        "b = 2\n",
        "print(b*rand_vector)"
      ],
      "execution_count": 24,
      "outputs": [
        {
          "output_type": "stream",
          "name": "stdout",
          "text": [
            "[[2 6 8 4 2 6]\n",
            " [6 2 4 4 8 4]\n",
            " [2 8 2 8 8 6]\n",
            " [2 8 4 6 4 8]]\n"
          ]
        }
      ]
    },
    {
      "cell_type": "code",
      "metadata": {
        "id": "_XbekA1_pFxQ"
      },
      "source": [
        ""
      ],
      "execution_count": null,
      "outputs": []
    }
  ]
}