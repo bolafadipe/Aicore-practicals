{
  "nbformat": 4,
  "nbformat_minor": 0,
  "metadata": {
    "colab": {
      "name": "module_3.8.ipynb",
      "provenance": [],
      "collapsed_sections": [],
      "authorship_tag": "ABX9TyMOFuHVxRzMNhjfsB4Azg4a",
      "include_colab_link": true
    },
    "kernelspec": {
      "name": "python3",
      "display_name": "Python 3"
    },
    "language_info": {
      "name": "python"
    }
  },
  "cells": [
    {
      "cell_type": "markdown",
      "metadata": {
        "id": "view-in-github",
        "colab_type": "text"
      },
      "source": [
        "<a href=\"https://colab.research.google.com/github/bolafadipe/Aicore-practicals/blob/main/module_3_8.ipynb\" target=\"_parent\"><img src=\"https://colab.research.google.com/assets/colab-badge.svg\" alt=\"Open In Colab\"/></a>"
      ]
    },
    {
      "cell_type": "markdown",
      "metadata": {
        "id": "-ou6-dB-AEAB"
      },
      "source": [
        "# Functions"
      ]
    },
    {
      "cell_type": "markdown",
      "metadata": {
        "id": "ukQajFWhAWzO"
      },
      "source": [
        "### Challenge 1: **Range checker**\n",
        "- Write a function called in_range which takes in a lower bound, an upper bound, and a number\n",
        "\n",
        "- If it is, return \"{number} is between {lower bound} and {upper bound}.\"\n",
        "\n",
        "- If it isn't, return \"{number} is NOT between {lower bound} and {upper bound}.\"\n",
        "\n",
        "- Call your function to test it"
      ]
    },
    {
      "cell_type": "code",
      "metadata": {
        "id": "cV6Lm6pO_3ne"
      },
      "source": [
        "def in_range(lower_bound, upper_bound, number):\n",
        "  statement = f'{number} is between {lower_bound} and {upper_bound}.' if (lower_bound <= number <= upper_bound) else f'{number} is NOT between {lower_bound} and {upper_bound}.'\n",
        "  return statement"
      ],
      "execution_count": null,
      "outputs": []
    },
    {
      "cell_type": "code",
      "metadata": {
        "colab": {
          "base_uri": "https://localhost:8080/",
          "height": 35
        },
        "id": "9vvRQZuyCIm8",
        "outputId": "e183a8dc-0f12-4262-b702-4d495ad19276"
      },
      "source": [
        "in_range(10,20,15)"
      ],
      "execution_count": null,
      "outputs": [
        {
          "output_type": "execute_result",
          "data": {
            "application/vnd.google.colaboratory.intrinsic+json": {
              "type": "string"
            },
            "text/plain": [
              "'15 is between 10 and 20.'"
            ]
          },
          "metadata": {},
          "execution_count": 2
        }
      ]
    },
    {
      "cell_type": "code",
      "metadata": {
        "colab": {
          "base_uri": "https://localhost:8080/",
          "height": 35
        },
        "id": "T7ki0AXxCPFt",
        "outputId": "3f38f423-bb21-4b65-a33b-bba359490f5e"
      },
      "source": [
        "in_range(50,100,25)"
      ],
      "execution_count": null,
      "outputs": [
        {
          "output_type": "execute_result",
          "data": {
            "application/vnd.google.colaboratory.intrinsic+json": {
              "type": "string"
            },
            "text/plain": [
              "'25 is NOT between 50 and 100.'"
            ]
          },
          "metadata": {},
          "execution_count": 3
        }
      ]
    },
    {
      "cell_type": "code",
      "metadata": {
        "id": "LzSOG1qaCUI_"
      },
      "source": [
        ""
      ],
      "execution_count": null,
      "outputs": []
    },
    {
      "cell_type": "markdown",
      "metadata": {
        "id": "mGSmsGdxChKS"
      },
      "source": [
        "### Challenge 2: **return unique list**\n",
        "Write a function called unique_list that takes in a list and returns a list with only the unique elements of the input.\n",
        "\n",
        "my_list = [1, 3, 5, 6, 4, 3, 2, 3, 3, 4, 3, 4, 5, 6, 6, 4, 3, 2, 12, 3, 5, 63, 4, 5, 3, 3, 2]\n",
        "\n",
        "Find another way of performing the same operation without defining a function."
      ]
    },
    {
      "cell_type": "code",
      "metadata": {
        "id": "NNOtVvpaCnL4"
      },
      "source": [
        "def unique_list(a_list):\n",
        "  unique = []\n",
        "  for num in a_list:\n",
        "    if num not in unique:\n",
        "       unique.append(num)\n",
        "  return unique\n",
        "  "
      ],
      "execution_count": null,
      "outputs": []
    },
    {
      "cell_type": "code",
      "metadata": {
        "colab": {
          "base_uri": "https://localhost:8080/"
        },
        "id": "241fomDcC_O5",
        "outputId": "6645084d-dc9a-452b-c16c-d1ffea3e965a"
      },
      "source": [
        "my_list = [1, 3, 5, 6, 4, 3, 2, 3, 3, 4, 3, 4, 5, 6, 6, 4, 3, 2, 12, 3, 5, 63, 4, 5, 3, 3, 2]\n",
        "unique_list(my_list)"
      ],
      "execution_count": null,
      "outputs": [
        {
          "output_type": "execute_result",
          "data": {
            "text/plain": [
              "[1, 3, 5, 6, 4, 2, 12, 63]"
            ]
          },
          "metadata": {},
          "execution_count": 26
        }
      ]
    },
    {
      "cell_type": "code",
      "metadata": {
        "colab": {
          "base_uri": "https://localhost:8080/"
        },
        "id": "I6HtTBzVDEdT",
        "outputId": "b259e714-6698-42dd-be64-9dea3e3acc6a"
      },
      "source": [
        "# solving without defining a function\n",
        "print(set(my_list))\n"
      ],
      "execution_count": null,
      "outputs": [
        {
          "output_type": "stream",
          "name": "stdout",
          "text": [
            "{1, 2, 3, 4, 5, 6, 12, 63}\n"
          ]
        }
      ]
    },
    {
      "cell_type": "markdown",
      "metadata": {
        "id": "liwkXJoDTiBh"
      },
      "source": [
        "### Challenge 3: **Profile Validation**\n",
        "- Create a function which takes in the name, age, and email of a user trying to create a new profile on our application\n",
        "\n",
        "- Check the name does not contain any of \"!@£$%^&*()\"\n",
        "\n",
        "- Check the email is valid by making sure it contains \"@\"\n",
        "\n",
        "- Check the age > 12\n",
        "\n",
        "- Turn each step above into a function, so that you have one function, which calls 3 other functions inside\n",
        "\n",
        "- Print a friendly error to explain the issue to the user if any of these checks does not pass"
      ]
    },
    {
      "cell_type": "code",
      "metadata": {
        "id": "iewEx-R3EiFK"
      },
      "source": [
        "# Help needed with this exercise\n",
        "invalid_chars = ['!', '@', '£', '$', '%' , '^', '&', '*', '()']\n",
        "def validate_profile(name, age, email):\n",
        "    for char in name:\n",
        "      if char in invalid_chars:\n",
        "        return 'invalid name'\n",
        "      else:\n",
        "        return validate_profile(name,age,email)\n",
        "    if age <= 12:\n",
        "      return 'too young' \n",
        "    else:\n",
        "      return age\n",
        "    if ('@' not in email):\n",
        "      return 'invalid email'\n",
        "    else:\n",
        "      return email\n"
      ],
      "execution_count": 100,
      "outputs": []
    },
    {
      "cell_type": "markdown",
      "metadata": {
        "id": "L3A0rn2QlGG7"
      },
      "source": [
        "### Challenge 4:\n",
        "Create a function which takes in an integer n, and when called, returns a list of the first n Fibonnaci numbers. It should be a recursive function which calls itself inside the function body."
      ]
    },
    {
      "cell_type": "code",
      "metadata": {
        "id": "XBJZLudUiT8E"
      },
      "source": [
        "def fib_num(n):\n",
        "   if n <= 1:\n",
        "       return n\n",
        "   else:\n",
        "       return (fib_num(n-1) + fib_num(n-2))"
      ],
      "execution_count": 106,
      "outputs": []
    },
    {
      "cell_type": "code",
      "metadata": {
        "colab": {
          "base_uri": "https://localhost:8080/"
        },
        "id": "HJbasSZZl7ro",
        "outputId": "3a86b0a9-1d51-4d2a-d1c9-ec2c0632222c"
      },
      "source": [
        "for i in range(5):\n",
        "  print(fib_num(i))"
      ],
      "execution_count": 107,
      "outputs": [
        {
          "output_type": "stream",
          "name": "stdout",
          "text": [
            "0\n",
            "1\n",
            "1\n",
            "2\n",
            "3\n"
          ]
        }
      ]
    },
    {
      "cell_type": "markdown",
      "metadata": {
        "id": "laLsWVq7nsTC"
      },
      "source": [
        "### Challenge 4: \n",
        "Volume of a Sphere Function\n",
        "- Write a function called volume_of_sphere that takes in the radius of a sphere and returns its volume rounded to 2dp. (Google the formula for volume of a sphere, use pi = 3.14)\n",
        "\n",
        "- Call your function to test it"
      ]
    },
    {
      "cell_type": "code",
      "metadata": {
        "id": "Hhe31alWnrUl"
      },
      "source": [
        "def volume_of_sphere(r):\n",
        "  return round(4/3*3.14*r**3, 2)"
      ],
      "execution_count": 110,
      "outputs": []
    },
    {
      "cell_type": "code",
      "metadata": {
        "colab": {
          "base_uri": "https://localhost:8080/"
        },
        "id": "GblZ98nOl9uu",
        "outputId": "6ca61ebc-622a-4e77-d1cd-4e9c83f60a9d"
      },
      "source": [
        "volume_of_sphere(12)"
      ],
      "execution_count": 111,
      "outputs": [
        {
          "output_type": "execute_result",
          "data": {
            "text/plain": [
              "7234.56"
            ]
          },
          "metadata": {},
          "execution_count": 111
        }
      ]
    },
    {
      "cell_type": "markdown",
      "metadata": {
        "id": "C7yUM5aDpBLv"
      },
      "source": [
        "### Challenge 5:\n",
        "Default arguments\n",
        "- Create a function which takes in a dictionary of attributes about a piece of clothing and prints each of the key-value pairs on a line\n",
        "\n",
        "- Define an input to the function called attributes_to_print with a default value of 'all'\n",
        "\n",
        "- If a list is passed into the function as the attributes_to_print, print only the key-value pairs of the dictionary which the key appears for in that list\n",
        "\n",
        "- Print a message to tell the user if a key doesn't exist\n",
        "\n",
        "- Call your function to test it"
      ]
    },
    {
      "cell_type": "code",
      "metadata": {
        "id": "HgwX5AWZohht"
      },
      "source": [
        "def clothing(attribute_to_print='all', **kwargs):\n",
        "  for k, v in kwargs.items():\n",
        "    print(k,v)\n"
      ],
      "execution_count": 112,
      "outputs": []
    },
    {
      "cell_type": "code",
      "metadata": {
        "colab": {
          "base_uri": "https://localhost:8080/"
        },
        "id": "73uRZslVv1CH",
        "outputId": "e3d2abf3-4c39-4fd8-dee2-3b100fe6816c"
      },
      "source": [
        "clothing(shirt=5, pants=7, hats=8)"
      ],
      "execution_count": 115,
      "outputs": [
        {
          "output_type": "stream",
          "name": "stdout",
          "text": [
            "shirt 5\n",
            "pants 7\n",
            "hats 8\n"
          ]
        }
      ]
    },
    {
      "cell_type": "markdown",
      "metadata": {
        "id": "4gEtftRXx7rW"
      },
      "source": [
        "### Challenge 6:\n",
        "Factorial Function\n",
        "\n",
        "Define a recursive function called \"factorial\" that returns the factorial of a given number."
      ]
    },
    {
      "cell_type": "code",
      "metadata": {
        "id": "b5XGyBR6waKp"
      },
      "source": [
        "def factorial(n):\n",
        "  if n == 1:\n",
        "    return n\n",
        "  else:\n",
        "     return n * factorial(n-1)\n"
      ],
      "execution_count": 117,
      "outputs": []
    },
    {
      "cell_type": "code",
      "metadata": {
        "colab": {
          "base_uri": "https://localhost:8080/"
        },
        "id": "A9o5Y6MAyJZA",
        "outputId": "b775f57e-4b33-4e32-8c57-1fbf28264631"
      },
      "source": [
        "factorial(3)"
      ],
      "execution_count": 118,
      "outputs": [
        {
          "output_type": "execute_result",
          "data": {
            "text/plain": [
              "6"
            ]
          },
          "metadata": {},
          "execution_count": 118
        }
      ]
    },
    {
      "cell_type": "code",
      "metadata": {
        "id": "cK7ucLmdyi_g"
      },
      "source": [
        ""
      ],
      "execution_count": null,
      "outputs": []
    },
    {
      "cell_type": "markdown",
      "metadata": {
        "id": "yexsCdbYzSE1"
      },
      "source": [
        "### Challenge 7:\n",
        "Fibonnaci loop\n",
        "1. Write a for loop that prints the first 100 Fibonnaci numbers\n",
        "\n",
        "2. Create a function which returns true if the number is a multiple of 7 and false otherwise\n",
        "\n",
        "3. Call this function on each number inside your loop\n",
        "\n",
        "4. Add an elif condition to the loop to call another new function which checks if the number is greater than or equal to 100 OR is less than 50. In the case that it is true, format a string that prints the number and either \"is larger than 100\" or \"is less than 50\""
      ]
    },
    {
      "cell_type": "code",
      "metadata": {
        "colab": {
          "base_uri": "https://localhost:8080/"
        },
        "id": "4vuP55aVzVYY",
        "outputId": "8d3b3853-72c5-4874-9b5b-52eb723136a8"
      },
      "source": [
        "# instantiate the first 2 numbers of the fibonacci series\n",
        "fib_series = [0,1]\n",
        "for i in range(2,100):\n",
        "  next_num = fib_series[i-1] + fib_series[i-2]\n",
        "  fib_series.append(next_num)\n",
        "print(fib_series)"
      ],
      "execution_count": 124,
      "outputs": [
        {
          "output_type": "stream",
          "name": "stdout",
          "text": [
            "[0, 1, 1, 2, 3, 5, 8, 13, 21, 34, 55, 89, 144, 233, 377, 610, 987, 1597, 2584, 4181, 6765, 10946, 17711, 28657, 46368, 75025, 121393, 196418, 317811, 514229, 832040, 1346269, 2178309, 3524578, 5702887, 9227465, 14930352, 24157817, 39088169, 63245986, 102334155, 165580141, 267914296, 433494437, 701408733, 1134903170, 1836311903, 2971215073, 4807526976, 7778742049, 12586269025, 20365011074, 32951280099, 53316291173, 86267571272, 139583862445, 225851433717, 365435296162, 591286729879, 956722026041, 1548008755920, 2504730781961, 4052739537881, 6557470319842, 10610209857723, 17167680177565, 27777890035288, 44945570212853, 72723460248141, 117669030460994, 190392490709135, 308061521170129, 498454011879264, 806515533049393, 1304969544928657, 2111485077978050, 3416454622906707, 5527939700884757, 8944394323791464, 14472334024676221, 23416728348467685, 37889062373143906, 61305790721611591, 99194853094755497, 160500643816367088, 259695496911122585, 420196140727489673, 679891637638612258, 1100087778366101931, 1779979416004714189, 2880067194370816120, 4660046610375530309, 7540113804746346429, 12200160415121876738, 19740274219868223167, 31940434634990099905, 51680708854858323072, 83621143489848422977, 135301852344706746049, 218922995834555169026]\n"
          ]
        }
      ]
    },
    {
      "cell_type": "code",
      "metadata": {
        "id": "HbHw8WRs2kaa"
      },
      "source": [
        "# checking if a number in the series is a multiple of 7\n",
        "\n",
        "def check_multiple_of_7(series):\n",
        "  for num in series:\n",
        "    if num % 7 == 0:\n",
        "      print('true')\n",
        "    else:\n",
        "      print('false')\n",
        "      \n",
        "   \n",
        "      \n",
        "    "
      ],
      "execution_count": 168,
      "outputs": []
    },
    {
      "cell_type": "code",
      "metadata": {
        "id": "EWLk1btE232e"
      },
      "source": [
        "check_multiple_of_7(fib_series)"
      ],
      "execution_count": null,
      "outputs": []
    },
    {
      "cell_type": "code",
      "metadata": {
        "id": "CGqbNvtO7LJ6"
      },
      "source": [
        ""
      ],
      "execution_count": 163,
      "outputs": []
    }
  ]
}