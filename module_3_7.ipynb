{
  "nbformat": 4,
  "nbformat_minor": 0,
  "metadata": {
    "colab": {
      "name": "module_3.7.ipynb",
      "provenance": [],
      "collapsed_sections": [],
      "toc_visible": true,
      "authorship_tag": "ABX9TyMp39FoYTB73h7em7yhpBrS",
      "include_colab_link": true
    },
    "kernelspec": {
      "name": "python3",
      "display_name": "Python 3"
    },
    "language_info": {
      "name": "python"
    }
  },
  "cells": [
    {
      "cell_type": "markdown",
      "metadata": {
        "id": "view-in-github",
        "colab_type": "text"
      },
      "source": [
        "<a href=\"https://colab.research.google.com/github/bolafadipe/Aicore-practicals/blob/main/module_3_7.ipynb\" target=\"_parent\"><img src=\"https://colab.research.google.com/assets/colab-badge.svg\" alt=\"Open In Colab\"/></a>"
      ]
    },
    {
      "cell_type": "markdown",
      "metadata": {
        "id": "H6nUf0OFVjcm"
      },
      "source": [
        "# Loops"
      ]
    },
    {
      "cell_type": "markdown",
      "metadata": {
        "id": "5NTpjYItVxTh"
      },
      "source": [
        "### Challenge 1: **Counting Even and Odd Numbers**\n",
        "Write a for loop to count how many even and odd numbers between 1 and 100."
      ]
    },
    {
      "cell_type": "code",
      "metadata": {
        "id": "XSR9Z9h4WC85"
      },
      "source": [
        "counter_odd = 0\n",
        "counter_even = 0\n",
        "for i in range(1,101):\n",
        "  if i % 2 == 0:\n",
        "    counter_even += 1\n",
        "  else:\n",
        "    counter_odd += 1\n"
      ],
      "execution_count": 4,
      "outputs": []
    },
    {
      "cell_type": "code",
      "metadata": {
        "colab": {
          "base_uri": "https://localhost:8080/"
        },
        "id": "Ti_G-C1zWmGP",
        "outputId": "e55561fa-6712-46ef-88e2-788eb00bc384"
      },
      "source": [
        "counter_even"
      ],
      "execution_count": 5,
      "outputs": [
        {
          "output_type": "execute_result",
          "data": {
            "text/plain": [
              "50"
            ]
          },
          "metadata": {},
          "execution_count": 5
        }
      ]
    },
    {
      "cell_type": "code",
      "metadata": {
        "colab": {
          "base_uri": "https://localhost:8080/"
        },
        "id": "lvxKOyVNWomA",
        "outputId": "9fc9c4b7-0ccb-49af-90cf-254a47ab8ee4"
      },
      "source": [
        "counter_odd"
      ],
      "execution_count": 6,
      "outputs": [
        {
          "output_type": "execute_result",
          "data": {
            "text/plain": [
              "50"
            ]
          },
          "metadata": {},
          "execution_count": 6
        }
      ]
    },
    {
      "cell_type": "code",
      "metadata": {
        "id": "tO7vQ5gGWp3B"
      },
      "source": [
        ""
      ],
      "execution_count": null,
      "outputs": []
    },
    {
      "cell_type": "markdown",
      "metadata": {
        "id": "mBryPgUZXEbN"
      },
      "source": [
        "### Challenge 2: **Budget Calculator**\n",
        "Using the names dictionary and order_list shown below, write a program that fits the following conditions:\n",
        "\n",
        "- It should produce an order by adding items to receipt from order_list sequentially.\n",
        "\n",
        "- It should Print \"Current Total: £x\" with each iteration\n",
        "\n",
        "- If the order value exceeds the budget value, it should stop adding items and print \"Budget Exceeded!\".\n",
        "\n",
        "- If not, each time it adds items, it should:\n",
        "\n",
        "- Print \"Adding *full name of item* (quantity)\".\n",
        "\n",
        "- Subtract the price from budget.\n",
        "\n",
        "- Add the price to running_total.\n",
        "\n",
        "- It should print out running_total, order and budget formatted into print statements (done for you).\n",
        "\n",
        "order_list = [(\"tom\", 0.87, 4),\n",
        "\n",
        "(\"sug\", 1.09, 3),\n",
        "\n",
        "(\"ws\", 0.29, 4),\n",
        "\n",
        "(\"juc\", 1.89, 1),\n",
        "\n",
        "(\"fo\", 1.29, 2)]\n",
        "\n",
        "names = {\"tom\":\"Tomatoes\",\n",
        "\n",
        "\"sug\":\"Sugar\",\n",
        "\n",
        "\"ws\":\"Washing Sponges\",\n",
        "\n",
        "\"juc\":\"Juice\",\n",
        "\n",
        "\"fo\":\"Foil\"}\n",
        "\n",
        "budget = 10.00\n",
        "\n",
        "running_total = 0\n",
        "\n",
        "receipt = []"
      ]
    },
    {
      "cell_type": "code",
      "metadata": {
        "id": "Nf6HiC6oXSTO"
      },
      "source": [
        "order_list = [(\"tom\", 0.87, 4),\n",
        "\n",
        "(\"sug\", 1.09, 3),\n",
        "\n",
        "(\"ws\", 0.29, 4),\n",
        "\n",
        "(\"juc\", 1.89, 1),\n",
        "\n",
        "(\"fo\", 1.29, 2)]"
      ],
      "execution_count": null,
      "outputs": []
    },
    {
      "cell_type": "code",
      "metadata": {
        "id": "GdAOcMTIbmNf"
      },
      "source": [
        "names = {\"tom\":\"Tomatoes\",\n",
        "\n",
        "\"sug\":\"Sugar\",\n",
        "\n",
        "\"ws\":\"Washing Sponges\",\n",
        "\n",
        "\"juc\":\"Juice\",\n",
        "\n",
        "\"fo\":\"Foil\"}"
      ],
      "execution_count": null,
      "outputs": []
    },
    {
      "cell_type": "code",
      "metadata": {
        "id": "XD6EC7t9OyG-"
      },
      "source": [
        "budget = 10.00\n",
        "\n",
        "running_total = 0\n",
        "\n",
        "receipt = []"
      ],
      "execution_count": null,
      "outputs": []
    },
    {
      "cell_type": "code",
      "metadata": {
        "id": "8UZntkgXZESp",
        "colab": {
          "base_uri": "https://localhost:8080/"
        },
        "outputId": "77f3e1b5-aa22-4e33-9687-b6c5d0d0286c"
      },
      "source": [
        "# define a for-loop to iterate over each tuple in the order_list\n",
        "      \n",
        "for index, tup in enumerate(order_list):\n",
        "    \n",
        "    item = tup[0]        # --> get the name of each item in the tuple by indexing\n",
        "    price = tup[1]       # --> get the price of each item in the tuple by indexing\n",
        "    quantity = tup[2]    # --> get the quantity of each item in the tuple by indexing\n",
        "    full_name = names[item]  # --> get the fullname of the product by passing the 'item' variable as the 'key' of the names dict.\n",
        "    order_value = price * quantity\n",
        "    receipt.append(item)\n",
        "    running_total += order_value\n",
        " \n",
        "    if running_total <= budget:\n",
        "      print(f'adding {quantity} {full_name}')\n",
        "      print(f'Current Total is {round(order_value, 2)}')\n",
        "      \n",
        "      print(f'running total is {round(running_total, 2)} \\n\\n\\n')\n",
        "      \n",
        "     \n",
        "    else:\n",
        "      print('budget exceeded')\n",
        "      \n",
        "\n",
        "    \n",
        "          \n",
        "  \n",
        "   \n",
        "  \n"
      ],
      "execution_count": null,
      "outputs": [
        {
          "output_type": "stream",
          "name": "stdout",
          "text": [
            "adding 4 Tomatoes\n",
            "Current Total is 3.48\n",
            "running total is 3.48 \n",
            "\n",
            "\n",
            "\n",
            "adding 3 Sugar\n",
            "Current Total is 3.27\n",
            "running total is 6.75 \n",
            "\n",
            "\n",
            "\n",
            "adding 4 Washing Sponges\n",
            "Current Total is 1.16\n",
            "running total is 7.91 \n",
            "\n",
            "\n",
            "\n",
            "adding 1 Juice\n",
            "Current Total is 1.89\n",
            "running total is 9.8 \n",
            "\n",
            "\n",
            "\n",
            "budget exceeded\n"
          ]
        }
      ]
    },
    {
      "cell_type": "code",
      "metadata": {
        "id": "SfLl4MOhO1kJ"
      },
      "source": [
        ""
      ],
      "execution_count": null,
      "outputs": []
    },
    {
      "cell_type": "markdown",
      "metadata": {
        "id": "BaBtXczeO6Ag"
      },
      "source": [
        "### Challenge 3: **Dictionaries & list comprehensions**\n",
        "1. Create a dictionary with 3 keys\n",
        "\n",
        "- name: a string of your name\n",
        "\n",
        "- skills: a list of strings\n",
        "\n",
        "2. Make another one of these and put both of them in a list\n",
        "\n",
        "3. Now index that list of dictionaries to find the last letter of the first skill of the last dictionary\n",
        "\n",
        "4. Create a list comprehension which maps that list to a list of the length of names\n",
        "\n",
        "5. Add that list together to get the total number of characters in all of the names\n",
        "\n"
      ]
    },
    {
      "cell_type": "code",
      "metadata": {
        "id": "1YaKg-_-PT-_"
      },
      "source": [
        "#   creating 2 dictionaries each with 2 keys : name and skills\n",
        "persons_dict1 = {'name': 'Sammmy', 'skills': ['Javascript','Python']}\n",
        "persons_dict2 = {'name': 'Tom', 'skills' : ['Java', 'SQL']}\n",
        "\n",
        "# merging dict1 and dict2 into a list of dictionaries\n",
        "persons_list = [persons_dict1, persons_dict2]"
      ],
      "execution_count": null,
      "outputs": []
    },
    {
      "cell_type": "code",
      "metadata": {
        "colab": {
          "base_uri": "https://localhost:8080/"
        },
        "id": "PJP6ojlvRDai",
        "outputId": "e961af82-6906-4208-be3c-90b5361bd3bc"
      },
      "source": [
        "# confirm list of dictionaries\n",
        "persons_list"
      ],
      "execution_count": null,
      "outputs": [
        {
          "output_type": "execute_result",
          "data": {
            "text/plain": [
              "[{'name': 'Sammmy', 'skills': ['Javascript', 'Python']},\n",
              " {'name': 'Tom', 'skills': ['Java', 'SQL']}]"
            ]
          },
          "metadata": {},
          "execution_count": 67
        }
      ]
    },
    {
      "cell_type": "code",
      "metadata": {
        "colab": {
          "base_uri": "https://localhost:8080/",
          "height": 35
        },
        "id": "kWKh80pXgEuU",
        "outputId": "1bba19ef-fba1-434a-b2b7-6e7de139aa11"
      },
      "source": [
        "# indexing the last letter of the first skill of the last dictionary\n",
        "persons_list[1]['skills'][0][-1]"
      ],
      "execution_count": null,
      "outputs": [
        {
          "output_type": "execute_result",
          "data": {
            "application/vnd.google.colaboratory.intrinsic+json": {
              "type": "string"
            },
            "text/plain": [
              "'a'"
            ]
          },
          "metadata": {},
          "execution_count": 68
        }
      ]
    },
    {
      "cell_type": "code",
      "metadata": {
        "id": "YIPe3P-8VRBT"
      },
      "source": [
        "# get the list of values of name 'key' using list comprehension\n",
        "key = 'name'\n",
        "char_length = [len(a_dict[key]) for a_dict in persons_list]\n"
      ],
      "execution_count": null,
      "outputs": []
    },
    {
      "cell_type": "code",
      "metadata": {
        "colab": {
          "base_uri": "https://localhost:8080/"
        },
        "id": "Jn9dYGneeJPn",
        "outputId": "4811292f-94ed-4fd6-d1db-2e6efeeab502"
      },
      "source": [
        "# confirm the list of values of skills 'key'\n",
        "char_length"
      ],
      "execution_count": null,
      "outputs": [
        {
          "output_type": "execute_result",
          "data": {
            "text/plain": [
              "[6, 3]"
            ]
          },
          "metadata": {},
          "execution_count": 75
        }
      ]
    },
    {
      "cell_type": "code",
      "metadata": {
        "id": "qTpkxT-tb9W8"
      },
      "source": [
        "chars_in_names = char_length[0] + char_length[1]"
      ],
      "execution_count": null,
      "outputs": []
    },
    {
      "cell_type": "code",
      "metadata": {
        "colab": {
          "base_uri": "https://localhost:8080/"
        },
        "id": "JS2AiA56hmLX",
        "outputId": "f8e69fbf-02d6-4ee7-ff63-c6080963386d"
      },
      "source": [
        "cahrs_in_names"
      ],
      "execution_count": null,
      "outputs": [
        {
          "output_type": "execute_result",
          "data": {
            "text/plain": [
              "9"
            ]
          },
          "metadata": {},
          "execution_count": 77
        }
      ]
    },
    {
      "cell_type": "code",
      "metadata": {
        "colab": {
          "base_uri": "https://localhost:8080/"
        },
        "id": "p8IKDIuzhwd2",
        "outputId": "8aabbbd5-0220-4974-81d5-e977cfdad452"
      },
      "source": [
        "for i in range(1,5):\n",
        "  print('* ' * i)\n",
        "for j in range(5,1,-1):\n",
        "  print('* ' * j)"
      ],
      "execution_count": null,
      "outputs": [
        {
          "output_type": "stream",
          "name": "stdout",
          "text": [
            "* \n",
            "* * \n",
            "* * * \n",
            "* * * * \n",
            "* * * * * \n",
            "* * * * \n",
            "* * * \n",
            "* * \n"
          ]
        }
      ]
    },
    {
      "cell_type": "markdown",
      "metadata": {
        "id": "XgnIcv5bsbdV"
      },
      "source": [
        "### Challenge 4: Bonus Question\n",
        "Write a program to check whether each number from 10 to 50 is prime\n",
        "\n",
        "Your answer should take the following format:\n",
        "\n",
        "- \"x IS a prime number.\" for primes\n",
        "\n",
        "- \"x IS NOT a prime number because y is a factor of x.\" for non-primes\n",
        "\n",
        "CLUE: This is possible using a while loop nested in a for loop or using a nested for loop; if you can, try to find both."
      ]
    },
    {
      "cell_type": "code",
      "metadata": {
        "colab": {
          "base_uri": "https://localhost:8080/"
        },
        "id": "6N0N4jh7ix0C",
        "outputId": "5d62fb1e-1de9-4200-9154-e9fbea017edf"
      },
      "source": [
        "for num in range(10,51):\n",
        "  for i in range(2, num):\n",
        "    if (num % i) == 0:\n",
        "      break\n",
        "  else:\n",
        "     print(num)"
      ],
      "execution_count": null,
      "outputs": [
        {
          "output_type": "stream",
          "name": "stdout",
          "text": [
            "11\n",
            "13\n",
            "17\n",
            "19\n",
            "23\n",
            "29\n",
            "31\n",
            "37\n",
            "41\n",
            "43\n",
            "47\n"
          ]
        }
      ]
    },
    {
      "cell_type": "code",
      "metadata": {
        "id": "D1HYfgRYsHN6"
      },
      "source": [
        ""
      ],
      "execution_count": null,
      "outputs": []
    },
    {
      "cell_type": "markdown",
      "metadata": {
        "id": "CI4Q6vJ1tC7z"
      },
      "source": [
        "### Challenge 5: Palindrome?\n",
        "Create a function which checks whether a word is a palindrome or not\n",
        "\n",
        "- there are several ways to implement this. some require less code, but some are more efficient; which is yours, and can you think of how to implement the other way?"
      ]
    },
    {
      "cell_type": "code",
      "metadata": {
        "id": "hNG3htlgtjm_"
      },
      "source": [
        "def is_palindrome(word):\n",
        "  reversed_word = word[::-1]\n",
        "\n",
        "  check_word = 'is a Palindrome' if (word == reversed_word) else 'not a Palindrome'\n",
        "  return check_word\n"
      ],
      "execution_count": null,
      "outputs": []
    },
    {
      "cell_type": "code",
      "metadata": {
        "colab": {
          "base_uri": "https://localhost:8080/",
          "height": 35
        },
        "id": "GdTdVaaHuqD6",
        "outputId": "458d040f-1935-490f-c793-e1395771f8af"
      },
      "source": [
        "is_palindrome('madam')"
      ],
      "execution_count": null,
      "outputs": [
        {
          "output_type": "execute_result",
          "data": {
            "application/vnd.google.colaboratory.intrinsic+json": {
              "type": "string"
            },
            "text/plain": [
              "'is a Palindrome'"
            ]
          },
          "metadata": {},
          "execution_count": 112
        }
      ]
    },
    {
      "cell_type": "code",
      "metadata": {
        "colab": {
          "base_uri": "https://localhost:8080/",
          "height": 35
        },
        "id": "6WRlKwbzusfp",
        "outputId": "83bbd428-d6be-446b-8e4c-c19318dd0b36"
      },
      "source": [
        "is_palindrome('python')"
      ],
      "execution_count": null,
      "outputs": [
        {
          "output_type": "execute_result",
          "data": {
            "application/vnd.google.colaboratory.intrinsic+json": {
              "type": "string"
            },
            "text/plain": [
              "'not a Palindrome'"
            ]
          },
          "metadata": {},
          "execution_count": 113
        }
      ]
    },
    {
      "cell_type": "markdown",
      "metadata": {
        "id": "filLRSBKvF70"
      },
      "source": [
        "### Challenge 6: **Even and Odd List Comprehension**\n",
        "- Create a list comprehension that squares even arguments, and adds 1 to and squares odd arguments\n",
        "\n",
        "- Test on my_list\n",
        "\n",
        "my_list = [34,52,71,39,22,73,92]"
      ]
    },
    {
      "cell_type": "code",
      "metadata": {
        "id": "POfjGVm0u6ez"
      },
      "source": [
        "def square_even_odd_nums(a_list):\n",
        "  square_even_odd = [num**2 if num % 2 == 0 else (num + 1)**2 for num in a_list]\n",
        "  return square_even_odd\n"
      ],
      "execution_count": null,
      "outputs": []
    },
    {
      "cell_type": "code",
      "metadata": {
        "colab": {
          "base_uri": "https://localhost:8080/"
        },
        "id": "mMxObkFzxMTJ",
        "outputId": "93459103-f306-4e42-adb5-b103f7243c17"
      },
      "source": [
        "my_list = [34,52,71,39,22,73,92]\n",
        "my_list2 = [2,3,4,5]\n",
        "square_even_odd_nums(my_list2)\n"
      ],
      "execution_count": null,
      "outputs": [
        {
          "output_type": "execute_result",
          "data": {
            "text/plain": [
              "[4, 16, 16, 36]"
            ]
          },
          "metadata": {},
          "execution_count": 116
        }
      ]
    },
    {
      "cell_type": "markdown",
      "metadata": {
        "id": "4KwkAdEox-jf"
      },
      "source": [
        "### Challenge 7: **shop item filter**\n",
        "Filter shop_dict using list comprehension to find only items with values of over 1.00\n",
        "\n",
        "Assign them to a list called filtered_shop by their full names, not their codes, using names_dict.\n",
        "\n",
        "shop_dict = {\"tom\":0.87,\n",
        "\n",
        "\"sug\":1.09,\n",
        "\n",
        "\"ws\":0.29,\n",
        "\n",
        "\"cc\":1.89,\n",
        "\n",
        "\"ccz\":1.29}\n",
        "\n",
        "names_dict = {\"tom\":\"Tomatoes\",\n",
        "\n",
        "\"sug\":\"Sugar\",\n",
        "\n",
        "\"ws\":\"Washing Sponges\",\n",
        "\n",
        "\"cc\":\"Coca-Cola\",\n",
        "\n",
        "\"ccz\":\"Coca-Cola Zero\"}"
      ]
    },
    {
      "cell_type": "code",
      "metadata": {
        "id": "c5bs2jDLxWg8"
      },
      "source": [
        "# declare shop_dict variable\n",
        "shop_dict = {\"tom\":0.87,\n",
        "\n",
        "\"sug\":1.09,\n",
        "\n",
        "\"ws\":0.29,\n",
        "\n",
        "\"cc\":1.89,\n",
        "\n",
        "\"ccz\":1.29}"
      ],
      "execution_count": null,
      "outputs": []
    },
    {
      "cell_type": "code",
      "metadata": {
        "id": "LtcwNUavySB0"
      },
      "source": [
        "# declare name_dict variable\n",
        "names_dict = {\"tom\":\"Tomatoes\",\n",
        "\n",
        "\"sug\":\"Sugar\",\n",
        "\n",
        "\"ws\":\"Washing Sponges\",\n",
        "\n",
        "\"cc\":\"Coca-Cola\",\n",
        "\n",
        "\"ccz\":\"Coca-Cola Zero\"}"
      ],
      "execution_count": null,
      "outputs": []
    },
    {
      "cell_type": "code",
      "metadata": {
        "id": "PEttymWAyUJf"
      },
      "source": [
        "# get prices > 1.00\n",
        "filtered_prices = [item for item in shop_dict.values() if item > 1.00]"
      ],
      "execution_count": null,
      "outputs": []
    },
    {
      "cell_type": "code",
      "metadata": {
        "colab": {
          "base_uri": "https://localhost:8080/"
        },
        "id": "r-xtKeqozElP",
        "outputId": "0a0c8f9e-f0cd-4030-fd84-4f0779ab6207"
      },
      "source": [
        "# confirm filtered prices\n",
        "filtered_prices"
      ],
      "execution_count": null,
      "outputs": [
        {
          "output_type": "execute_result",
          "data": {
            "text/plain": [
              "[1.09, 1.89, 1.29]"
            ]
          },
          "metadata": {},
          "execution_count": 172
        }
      ]
    },
    {
      "cell_type": "code",
      "metadata": {
        "id": "bK8lWdQtzF7T"
      },
      "source": [
        "# loop through all items in shop_dict and thier corresponding prices \n",
        "# check if the price is in filtered_prices\n",
        "# access the fullname of the item from the name_dict by indexing with key of the shop_dict\n",
        "# append the return values to filtered_shop list \n",
        "filtered_shop = []\n",
        "for key, value in shop_dict.items():\n",
        "  if value in filtered_prices:\n",
        "    filtered_shop.append(names_dict[key])\n",
        "  \n"
      ],
      "execution_count": null,
      "outputs": []
    },
    {
      "cell_type": "code",
      "metadata": {
        "colab": {
          "base_uri": "https://localhost:8080/"
        },
        "id": "FFQxWdDj0HcG",
        "outputId": "27bd500d-de13-46c8-a87d-dce77bb9f4a5"
      },
      "source": [
        "print(filtered_shop)"
      ],
      "execution_count": null,
      "outputs": [
        {
          "output_type": "stream",
          "name": "stdout",
          "text": [
            "['Sugar', 'Coca-Cola', 'Coca-Cola Zero']\n"
          ]
        }
      ]
    }
  ]
}