{
  "nbformat": 4,
  "nbformat_minor": 0,
  "metadata": {
    "colab": {
      "name": "module_3.9.ipynb",
      "provenance": [],
      "collapsed_sections": [],
      "authorship_tag": "ABX9TyNMDxS9i30ceGpw9gAEiv2l",
      "include_colab_link": true
    },
    "kernelspec": {
      "name": "python3",
      "display_name": "Python 3"
    },
    "language_info": {
      "name": "python"
    }
  },
  "cells": [
    {
      "cell_type": "markdown",
      "metadata": {
        "id": "view-in-github",
        "colab_type": "text"
      },
      "source": [
        "<a href=\"https://colab.research.google.com/github/bolafadipe/Aicore-practicals/blob/main/module_3_9.ipynb\" target=\"_parent\"><img src=\"https://colab.research.google.com/assets/colab-badge.svg\" alt=\"Open In Colab\"/></a>"
      ]
    },
    {
      "cell_type": "markdown",
      "metadata": {
        "id": "hfwpU66t__Qz"
      },
      "source": [
        "# OOP\n"
      ]
    },
    {
      "cell_type": "markdown",
      "metadata": {
        "id": "yOoyFZ0AAFhT"
      },
      "source": [
        "### Challenge 1:\n",
        "Create a Cylinder Class\n",
        "\n",
        "Here is an example for you to have a go at. Try defining a class for a cylinder. It should contain two parameters:\n",
        "\n",
        "height\n",
        "\n",
        "radius, which should have a default value of 1\n",
        "\n",
        "Four attributes:\n",
        "\n",
        "height\n",
        "\n",
        "radius\n",
        "\n",
        "surface_area, initialised as None\n",
        "\n",
        "volume, initialised as None\n",
        "\n",
        "Two methods:\n",
        "\n",
        "get_surface_area: define surface_area, update attribute surface_area, return surface_area rounded to 2dp.\n",
        "\n",
        "get_volume: define volume, update attribute volume, return volume rounded to 2dp.\n",
        "\n",
        "Use google to find the formulae for surface area and volume of a cylinder.\n",
        "\n",
        "Use the formulae to create method definitions for these."
      ]
    },
    {
      "cell_type": "code",
      "metadata": {
        "id": "rWOYpP1jAC6h"
      },
      "source": [
        "class Cylinder:\n",
        "      def __init__(self, height, radius=1):\n",
        "        self.height = height\n",
        "        self.radius = radius\n",
        "        self.surface_area = None\n",
        "        self.volume = None\n",
        "\n",
        "      def get_surface_area(self):\n",
        "        self.surface_area = round((2*3.14*self.radius*self.height) + (2*3.14*self.radius**2), 2)\n",
        "        return self.surface_area\n",
        "      \n",
        "      def get_volume(self):\n",
        "        self.volume = round(3.14*self.radius**2*self.height, 2)\n",
        "        \n",
        "        return self.volume\n",
        "\n"
      ],
      "execution_count": null,
      "outputs": []
    },
    {
      "cell_type": "code",
      "metadata": {
        "id": "CGQX8KbFC8vf"
      },
      "source": [
        "a_cylinder = Cylinder(10, 5)"
      ],
      "execution_count": null,
      "outputs": []
    },
    {
      "cell_type": "code",
      "metadata": {
        "colab": {
          "base_uri": "https://localhost:8080/"
        },
        "id": "4mXZiBdLDjNY",
        "outputId": "ba71d036-9997-4249-dc70-c524d1b99e90"
      },
      "source": [
        "a_cylinder.get_surface_area()"
      ],
      "execution_count": null,
      "outputs": [
        {
          "output_type": "execute_result",
          "data": {
            "text/plain": [
              "471.0"
            ]
          },
          "metadata": {},
          "execution_count": 3
        }
      ]
    },
    {
      "cell_type": "code",
      "metadata": {
        "colab": {
          "base_uri": "https://localhost:8080/"
        },
        "id": "F-q7zd-dDnn8",
        "outputId": "83d26623-a187-4b91-8687-d0b7e0a63220"
      },
      "source": [
        "a_cylinder.radius"
      ],
      "execution_count": null,
      "outputs": [
        {
          "output_type": "execute_result",
          "data": {
            "text/plain": [
              "5"
            ]
          },
          "metadata": {},
          "execution_count": 4
        }
      ]
    },
    {
      "cell_type": "code",
      "metadata": {
        "colab": {
          "base_uri": "https://localhost:8080/"
        },
        "id": "OxMZYBeBDrLL",
        "outputId": "556c0468-460c-45e5-c482-35b56d9a55f3"
      },
      "source": [
        "a_cylinder.height"
      ],
      "execution_count": null,
      "outputs": [
        {
          "output_type": "execute_result",
          "data": {
            "text/plain": [
              "10"
            ]
          },
          "metadata": {},
          "execution_count": 5
        }
      ]
    },
    {
      "cell_type": "code",
      "metadata": {
        "colab": {
          "base_uri": "https://localhost:8080/"
        },
        "id": "rhF8Z7KeEEus",
        "outputId": "58972d29-ec68-4135-afe5-331a09cca8e0"
      },
      "source": [
        "a_cylinder.get_volume()"
      ],
      "execution_count": null,
      "outputs": [
        {
          "output_type": "execute_result",
          "data": {
            "text/plain": [
              "785.0"
            ]
          },
          "metadata": {},
          "execution_count": 6
        }
      ]
    },
    {
      "cell_type": "markdown",
      "metadata": {
        "id": "dmw7ubykF-AQ"
      },
      "source": [
        "### Challenge 2:\n",
        "Person Class\n",
        "\n",
        "1. Create a class called Person\n",
        "\n",
        "2. Define it's initialiser\n",
        "\n",
        "- it must take in a name, and a date of birth in ISO format (YYYY-MM-DD), and optionally a list of \"friends\"\n",
        "\n",
        "- it should initialise attributes for each of those\n",
        "\n",
        "3. Instantiate your class and test that it works before continuing - do this for every section going forward\n",
        "\n",
        "4. Define a magic method which prints a string representation of the person, detailing their name, DOB and number of friends\n",
        "\n",
        "5. Define a magic method that defines how to use the greater than sign to compare the age of two people (hint: it's not complicated - does \">\" work on strings? what does it do? hence why is the ISO format important?)\n",
        "\n",
        "6. Create a method called `add_friend`, which takes in another instance of the person class and adds it to this instance's friends attribute. Assume that every relationship goes both ways: this method should append each friend to the other's list, in just one call\n",
        "\n",
        "7. Assert that the type of the object passed into `add_friend` is an instance of the Person class. What's an assertion error?\n",
        "\n",
        "8. Safely handle the assertion error\n",
        "\n"
      ]
    },
    {
      "cell_type": "code",
      "metadata": {
        "id": "IHKae_TaGB2z"
      },
      "source": [
        "class Person:\n",
        "  def __init__(self, name, age, friends = []):\n",
        "    self.name = name\n",
        "    self.age = age\n",
        "    self.friends = friends\n",
        "  def __str__(self): # this returns the string representation of an instance of the class\n",
        "    rep = f'{self.name}, {self.dob}, {self.friends}'\n",
        "    return rep\n",
        "\n",
        "  def __gt__(self, other):\n",
        "      return self.age > other.age\n",
        "\n",
        "  def add_friend(self, other):\n",
        "    friends = other.friends\n",
        "    if isinstance(other, Person):\n",
        "      raise ValueError\n",
        "\n",
        "      \n",
        "        \n",
        "      \n",
        "\n",
        " "
      ],
      "execution_count": null,
      "outputs": []
    },
    {
      "cell_type": "code",
      "metadata": {
        "id": "kttDbAyGHPXg"
      },
      "source": [
        "person1 = Person('Tom', 28)\n",
        "person2 = Person('sam', 35)"
      ],
      "execution_count": null,
      "outputs": []
    },
    {
      "cell_type": "code",
      "metadata": {
        "colab": {
          "base_uri": "https://localhost:8080/"
        },
        "id": "HTqyyFeRHb28",
        "outputId": "a59abe39-309b-4434-9498-9fa30b944228"
      },
      "source": [
        "person1.age"
      ],
      "execution_count": null,
      "outputs": [
        {
          "output_type": "execute_result",
          "data": {
            "text/plain": [
              "28"
            ]
          },
          "metadata": {},
          "execution_count": 9
        }
      ]
    },
    {
      "cell_type": "code",
      "metadata": {
        "colab": {
          "base_uri": "https://localhost:8080/"
        },
        "id": "-pgPce34ptla",
        "outputId": "502609dc-01ca-4489-8ac7-568c96abf820"
      },
      "source": [
        "person2.age"
      ],
      "execution_count": null,
      "outputs": [
        {
          "output_type": "execute_result",
          "data": {
            "text/plain": [
              "35"
            ]
          },
          "metadata": {},
          "execution_count": 10
        }
      ]
    }
  ]
}